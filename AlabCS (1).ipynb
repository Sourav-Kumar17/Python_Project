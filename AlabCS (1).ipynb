{
 "cells": [
  {
   "cell_type": "code",
   "execution_count": 78,
   "id": "ddab1641-9651-427d-b7ac-4e67d6bea6bd",
   "metadata": {},
   "outputs": [],
   "source": [
    "import pandas as pd\n",
    "import numpy as np\n",
    "import os\n",
    "import datetime as dt\n",
    "import seaborn as sns \n",
    "import matplotlib.pyplot as plt"
   ]
  },
  {
   "cell_type": "code",
   "execution_count": 80,
   "id": "2113ff38-f9c2-4c22-8b00-dd67a349320c",
   "metadata": {},
   "outputs": [],
   "source": [
    "os.chdir('C:\\\\Users\\\\mahes\\\\Downloads\\\\Python Foundation End to End Case Study E-Commerce Analytics Project\\\\5. Python Foundation End to End Case Study_E-Commerce Analytics Project')"
   ]
  },
  {
   "cell_type": "code",
   "execution_count": 221,
   "id": "40ec6d6d-b4df-4b5d-a8c4-858ffd104179",
   "metadata": {},
   "outputs": [],
   "source": [
    "geo=pd.read_csv('GEO_LOCATION.csv')\n",
    "payment=pd.read_csv('ORDER_PAYMENTS.csv')\n",
    "review=pd.read_csv('ORDER_REVIEW_RATINGS.csv')\n",
    "order=pd.read_csv('ORDERS.csv')\n",
    "product=pd.read_csv('PRODUCTS.csv')\n",
    "item=pd.read_csv('ORDER_ITEMS.csv')\n",
    "seller=pd.read_csv('SELLERS.csv')\n",
    "customer=pd.read_csv('CUSTOMERS.csv')\n",
    "\n"
   ]
  },
  {
   "cell_type": "code",
   "execution_count": 222,
   "id": "70da011b-8de5-43f3-9073-23231201b0cf",
   "metadata": {},
   "outputs": [
    {
     "name": "stdout",
     "output_type": "stream",
     "text": [
      "<class 'pandas.core.frame.DataFrame'>\n",
      "RangeIndex: 19015 entries, 0 to 19014\n",
      "Data columns (total 5 columns):\n",
      " #   Column                       Non-Null Count  Dtype  \n",
      "---  ------                       --------------  -----  \n",
      " 0   geolocation_zip_code_prefix  19015 non-null  int64  \n",
      " 1   geolocation_lat              19015 non-null  float64\n",
      " 2   geolocation_lng              19015 non-null  float64\n",
      " 3   geolocation_city             19015 non-null  object \n",
      " 4   geolocation_state            19015 non-null  object \n",
      "dtypes: float64(2), int64(1), object(2)\n",
      "memory usage: 742.9+ KB\n"
     ]
    }
   ],
   "source": [
    "geo.info()"
   ]
  },
  {
   "cell_type": "code",
   "execution_count": 84,
   "id": "4f66a9a6-9c30-4f2e-9b68-3288c7695fd1",
   "metadata": {},
   "outputs": [
    {
     "name": "stdout",
     "output_type": "stream",
     "text": [
      "<class 'pandas.core.frame.DataFrame'>\n",
      "RangeIndex: 103886 entries, 0 to 103885\n",
      "Data columns (total 5 columns):\n",
      " #   Column                Non-Null Count   Dtype  \n",
      "---  ------                --------------   -----  \n",
      " 0   order_id              103886 non-null  object \n",
      " 1   payment_sequential    103886 non-null  int64  \n",
      " 2   payment_type          103886 non-null  object \n",
      " 3   payment_installments  103886 non-null  int64  \n",
      " 4   payment_value         103886 non-null  float64\n",
      "dtypes: float64(1), int64(2), object(2)\n",
      "memory usage: 4.0+ MB\n"
     ]
    }
   ],
   "source": [
    "payment.info()"
   ]
  },
  {
   "cell_type": "code",
   "execution_count": 85,
   "id": "e6c81104-2f5e-4c15-ab50-853cd9930c3a",
   "metadata": {},
   "outputs": [
    {
     "name": "stdout",
     "output_type": "stream",
     "text": [
      "<class 'pandas.core.frame.DataFrame'>\n",
      "RangeIndex: 100000 entries, 0 to 99999\n",
      "Data columns (total 5 columns):\n",
      " #   Column                   Non-Null Count   Dtype \n",
      "---  ------                   --------------   ----- \n",
      " 0   review_id                100000 non-null  object\n",
      " 1   order_id                 100000 non-null  object\n",
      " 2   review_score             100000 non-null  int64 \n",
      " 3   review_creation_date     100000 non-null  object\n",
      " 4   review_answer_timestamp  100000 non-null  object\n",
      "dtypes: int64(1), object(4)\n",
      "memory usage: 3.8+ MB\n"
     ]
    }
   ],
   "source": [
    "review.info()"
   ]
  },
  {
   "cell_type": "code",
   "execution_count": 86,
   "id": "8c3bef56-4fb2-4897-9f93-88ce5a78da5c",
   "metadata": {},
   "outputs": [
    {
     "name": "stdout",
     "output_type": "stream",
     "text": [
      "<class 'pandas.core.frame.DataFrame'>\n",
      "RangeIndex: 99441 entries, 0 to 99440\n",
      "Data columns (total 8 columns):\n",
      " #   Column                         Non-Null Count  Dtype \n",
      "---  ------                         --------------  ----- \n",
      " 0   order_id                       99441 non-null  object\n",
      " 1   customer_id                    99441 non-null  object\n",
      " 2   order_status                   99441 non-null  object\n",
      " 3   order_purchase_timestamp       99441 non-null  object\n",
      " 4   order_approved_at              99281 non-null  object\n",
      " 5   order_delivered_carrier_date   97658 non-null  object\n",
      " 6   order_delivered_customer_date  96476 non-null  object\n",
      " 7   order_estimated_delivery_date  99441 non-null  object\n",
      "dtypes: object(8)\n",
      "memory usage: 6.1+ MB\n"
     ]
    }
   ],
   "source": [
    "order.info()"
   ]
  },
  {
   "cell_type": "code",
   "execution_count": 87,
   "id": "c80633ed-4270-413f-ae18-24eff64aa943",
   "metadata": {},
   "outputs": [
    {
     "name": "stdout",
     "output_type": "stream",
     "text": [
      "<class 'pandas.core.frame.DataFrame'>\n",
      "RangeIndex: 32951 entries, 0 to 32950\n",
      "Data columns (total 9 columns):\n",
      " #   Column                      Non-Null Count  Dtype  \n",
      "---  ------                      --------------  -----  \n",
      " 0   product_id                  32951 non-null  object \n",
      " 1   product_category_name       32328 non-null  object \n",
      " 2   product_name_lenght         32341 non-null  float64\n",
      " 3   product_description_lenght  32341 non-null  float64\n",
      " 4   product_photos_qty          32341 non-null  float64\n",
      " 5   product_weight_g            32949 non-null  float64\n",
      " 6   product_length_cm           32949 non-null  float64\n",
      " 7   product_height_cm           32949 non-null  float64\n",
      " 8   product_width_cm            32949 non-null  float64\n",
      "dtypes: float64(7), object(2)\n",
      "memory usage: 2.3+ MB\n"
     ]
    }
   ],
   "source": [
    "product.info()"
   ]
  },
  {
   "cell_type": "code",
   "execution_count": 88,
   "id": "93f59f8a-1360-4fdc-96ee-69b1bdd9c928",
   "metadata": {},
   "outputs": [
    {
     "name": "stdout",
     "output_type": "stream",
     "text": [
      "<class 'pandas.core.frame.DataFrame'>\n",
      "RangeIndex: 112650 entries, 0 to 112649\n",
      "Data columns (total 7 columns):\n",
      " #   Column               Non-Null Count   Dtype  \n",
      "---  ------               --------------   -----  \n",
      " 0   order_id             112650 non-null  object \n",
      " 1   order_item_id        112650 non-null  int64  \n",
      " 2   product_id           112650 non-null  object \n",
      " 3   seller_id            112650 non-null  object \n",
      " 4   shipping_limit_date  112650 non-null  object \n",
      " 5   price                112650 non-null  float64\n",
      " 6   freight_value        112650 non-null  float64\n",
      "dtypes: float64(2), int64(1), object(4)\n",
      "memory usage: 6.0+ MB\n"
     ]
    }
   ],
   "source": [
    "item.info()"
   ]
  },
  {
   "cell_type": "code",
   "execution_count": 89,
   "id": "c72a6621-56df-4445-8ff1-bdf5263b5912",
   "metadata": {},
   "outputs": [
    {
     "name": "stdout",
     "output_type": "stream",
     "text": [
      "<class 'pandas.core.frame.DataFrame'>\n",
      "RangeIndex: 3095 entries, 0 to 3094\n",
      "Data columns (total 4 columns):\n",
      " #   Column                  Non-Null Count  Dtype \n",
      "---  ------                  --------------  ----- \n",
      " 0   seller_id               3095 non-null   object\n",
      " 1   seller_zip_code_prefix  3095 non-null   int64 \n",
      " 2   seller_city             3038 non-null   object\n",
      " 3   seller_state            3038 non-null   object\n",
      "dtypes: int64(1), object(3)\n",
      "memory usage: 96.8+ KB\n"
     ]
    }
   ],
   "source": [
    "seller.info()"
   ]
  },
  {
   "cell_type": "code",
   "execution_count": 90,
   "id": "38e08931-7786-4ae1-aa20-713a0bfe660d",
   "metadata": {},
   "outputs": [
    {
     "name": "stdout",
     "output_type": "stream",
     "text": [
      "<class 'pandas.core.frame.DataFrame'>\n",
      "RangeIndex: 99441 entries, 0 to 99440\n",
      "Data columns (total 5 columns):\n",
      " #   Column                    Non-Null Count  Dtype \n",
      "---  ------                    --------------  ----- \n",
      " 0   customer_id               99441 non-null  object\n",
      " 1   customer_unique_id        99441 non-null  object\n",
      " 2   customer_zip_code_prefix  99441 non-null  int64 \n",
      " 3   customer_city             99441 non-null  object\n",
      " 4   customer_state            99441 non-null  object\n",
      "dtypes: int64(1), object(4)\n",
      "memory usage: 3.8+ MB\n"
     ]
    }
   ],
   "source": [
    "customer.info()"
   ]
  },
  {
   "cell_type": "markdown",
   "id": "f0fe33e9-413d-4f61-9647-4470108c9c88",
   "metadata": {},
   "source": [
    "# 1. Perform Detailed exploratory analysis "
   ]
  },
  {
   "cell_type": "markdown",
   "id": "f2148b96-4097-4044-a7ae-21c9069a051d",
   "metadata": {},
   "source": [
    "### 1. a. Define & calculate high level metrics like (Total Revenue, Total quantity, Total products, Total categories, Total sellers, Total locations, Total channels, Total payment methods etc…)  "
   ]
  },
  {
   "cell_type": "code",
   "execution_count": 225,
   "id": "fd3eb903-7447-4e53-81f6-7db380df8434",
   "metadata": {},
   "outputs": [],
   "source": [
    "data=pd.merge(left=order,right=payment,how='inner',on='order_id')"
   ]
  },
  {
   "cell_type": "code",
   "execution_count": 227,
   "id": "fa0ff955-f559-435f-80fc-9d6b6fdc49cb",
   "metadata": {},
   "outputs": [],
   "source": [
    "data=pd.merge(left=data,right=customer,how='inner',on='customer_id')"
   ]
  },
  {
   "cell_type": "code",
   "execution_count": 229,
   "id": "6e5783a6-8302-474d-952b-55217577cbf1",
   "metadata": {},
   "outputs": [],
   "source": [
    "data=pd.merge(left=data,right=item,how='left',on='order_id')"
   ]
  },
  {
   "cell_type": "code",
   "execution_count": 231,
   "id": "605033cc-d302-4988-afa9-3b0d5e047879",
   "metadata": {},
   "outputs": [],
   "source": [
    "data=pd.merge(left=data,right=product,how='left',on='product_id')"
   ]
  },
  {
   "cell_type": "code",
   "execution_count": 233,
   "id": "1bb4e7ef-a25d-4f35-bf16-a7379adb7926",
   "metadata": {},
   "outputs": [],
   "source": [
    "data=pd.merge(left=data,right=seller,how='left',on='seller_id')"
   ]
  },
  {
   "cell_type": "code",
   "execution_count": 235,
   "id": "716ac022-66dd-4e0f-ae9e-a90b2a2908de",
   "metadata": {},
   "outputs": [],
   "source": [
    "data=pd.merge(left=data,right=review,how='left',on='order_id')"
   ]
  },
  {
   "cell_type": "code",
   "execution_count": 236,
   "id": "c9ed9c89-817a-4442-b4eb-39ccff432397",
   "metadata": {},
   "outputs": [
    {
     "data": {
      "text/plain": [
       "(119148, 37)"
      ]
     },
     "execution_count": 236,
     "metadata": {},
     "output_type": "execute_result"
    }
   ],
   "source": [
    "data.shape"
   ]
  },
  {
   "cell_type": "code",
   "execution_count": 239,
   "id": "1b89171b-3b2d-4a48-a5b0-b345f3b4c84c",
   "metadata": {},
   "outputs": [
    {
     "data": {
      "text/plain": [
       "order_id                            0\n",
       "customer_id                         0\n",
       "order_status                        0\n",
       "order_purchase_timestamp            0\n",
       "order_approved_at                 177\n",
       "order_delivered_carrier_date     2086\n",
       "order_delivered_customer_date    3421\n",
       "order_estimated_delivery_date       0\n",
       "payment_sequential                  0\n",
       "payment_type                        0\n",
       "payment_installments                0\n",
       "payment_value                       0\n",
       "customer_unique_id                  0\n",
       "customer_zip_code_prefix            0\n",
       "customer_city                       0\n",
       "customer_state                      0\n",
       "order_item_id                     833\n",
       "product_id                        833\n",
       "seller_id                         833\n",
       "shipping_limit_date               833\n",
       "price                             833\n",
       "freight_value                     833\n",
       "product_category_name            2567\n",
       "product_name_lenght              2542\n",
       "product_description_lenght       2542\n",
       "product_photos_qty               2542\n",
       "product_weight_g                  853\n",
       "product_length_cm                 853\n",
       "product_height_cm                 853\n",
       "product_width_cm                  853\n",
       "seller_zip_code_prefix            833\n",
       "seller_city                      2484\n",
       "seller_state                     2484\n",
       "review_id                           0\n",
       "review_score                        0\n",
       "review_creation_date                0\n",
       "review_answer_timestamp             0\n",
       "dtype: int64"
      ]
     },
     "execution_count": 239,
     "metadata": {},
     "output_type": "execute_result"
    }
   ],
   "source": [
    "data.isna().sum()"
   ]
  },
  {
   "cell_type": "code",
   "execution_count": 241,
   "id": "08723943-a6c2-40fe-acab-fb68993b05e7",
   "metadata": {},
   "outputs": [],
   "source": [
    "data=data.drop(columns=['order_approved_at','order_delivered_carrier_date','order_estimated_delivery_date','order_delivered_customer_date','shipping_limit_date','product_name_lenght','product_description_lenght','product_photos_qty','product_weight_g','product_length_cm','product_height_cm','product_height_cm','product_width_cm','seller_city','seller_state','seller_zip_code_prefix'])"
   ]
  },
  {
   "cell_type": "code",
   "execution_count": 243,
   "id": "90419cd5-1aa9-4785-9044-a4262fd6c2c8",
   "metadata": {},
   "outputs": [
    {
     "data": {
      "text/plain": [
       "order_id                       0\n",
       "customer_id                    0\n",
       "order_status                   0\n",
       "order_purchase_timestamp       0\n",
       "payment_sequential             0\n",
       "payment_type                   0\n",
       "payment_installments           0\n",
       "payment_value                  0\n",
       "customer_unique_id             0\n",
       "customer_zip_code_prefix       0\n",
       "customer_city                  0\n",
       "customer_state                 0\n",
       "order_item_id                833\n",
       "product_id                   833\n",
       "seller_id                    833\n",
       "price                        833\n",
       "freight_value                833\n",
       "product_category_name       2567\n",
       "review_id                      0\n",
       "review_score                   0\n",
       "review_creation_date           0\n",
       "review_answer_timestamp        0\n",
       "dtype: int64"
      ]
     },
     "execution_count": 243,
     "metadata": {},
     "output_type": "execute_result"
    }
   ],
   "source": [
    "data.isna().sum()"
   ]
  },
  {
   "cell_type": "code",
   "execution_count": 245,
   "id": "a25c13b3-80a3-4858-a281-59a8b190befa",
   "metadata": {},
   "outputs": [],
   "source": [
    "data['order_item_id']=data['order_item_id'].fillna(data['order_item_id'].median())"
   ]
  },
  {
   "cell_type": "code",
   "execution_count": 247,
   "id": "d2f49a39-6415-4be1-b1a8-e26da9ca710d",
   "metadata": {},
   "outputs": [],
   "source": [
    "col=['product_id','seller_id','product_category_name']\n",
    "for i in col:\n",
    "    data[i]=data[i].fillna('unknown')"
   ]
  },
  {
   "cell_type": "code",
   "execution_count": 249,
   "id": "d5dde1d9-5d86-452c-b710-20d628d7abae",
   "metadata": {},
   "outputs": [],
   "source": [
    "data['price']=data['price'].fillna(0.90*(data['payment_value']))"
   ]
  },
  {
   "cell_type": "code",
   "execution_count": 251,
   "id": "2537dd51-2a3f-42c5-8686-2b11a0417f4f",
   "metadata": {},
   "outputs": [],
   "source": [
    "data['freight_value']=data['freight_value'].fillna(0.10*(data['payment_value']))"
   ]
  },
  {
   "cell_type": "code",
   "execution_count": 253,
   "id": "eec928fd-5579-4559-9e8d-da1911ee4483",
   "metadata": {},
   "outputs": [
    {
     "data": {
      "text/plain": [
       "order_id                    0\n",
       "customer_id                 0\n",
       "order_status                0\n",
       "order_purchase_timestamp    0\n",
       "payment_sequential          0\n",
       "payment_type                0\n",
       "payment_installments        0\n",
       "payment_value               0\n",
       "customer_unique_id          0\n",
       "customer_zip_code_prefix    0\n",
       "customer_city               0\n",
       "customer_state              0\n",
       "order_item_id               0\n",
       "product_id                  0\n",
       "seller_id                   0\n",
       "price                       0\n",
       "freight_value               0\n",
       "product_category_name       0\n",
       "review_id                   0\n",
       "review_score                0\n",
       "review_creation_date        0\n",
       "review_answer_timestamp     0\n",
       "dtype: int64"
      ]
     },
     "execution_count": 253,
     "metadata": {},
     "output_type": "execute_result"
    }
   ],
   "source": [
    "data.isna().sum()"
   ]
  },
  {
   "cell_type": "code",
   "execution_count": 255,
   "id": "7537dd47-b02a-4524-ac72-323609de46ed",
   "metadata": {},
   "outputs": [
    {
     "name": "stdout",
     "output_type": "stream",
     "text": [
      "<class 'pandas.core.frame.DataFrame'>\n",
      "RangeIndex: 119148 entries, 0 to 119147\n",
      "Data columns (total 22 columns):\n",
      " #   Column                    Non-Null Count   Dtype  \n",
      "---  ------                    --------------   -----  \n",
      " 0   order_id                  119148 non-null  object \n",
      " 1   customer_id               119148 non-null  object \n",
      " 2   order_status              119148 non-null  object \n",
      " 3   order_purchase_timestamp  119148 non-null  object \n",
      " 4   payment_sequential        119148 non-null  int64  \n",
      " 5   payment_type              119148 non-null  object \n",
      " 6   payment_installments      119148 non-null  int64  \n",
      " 7   payment_value             119148 non-null  float64\n",
      " 8   customer_unique_id        119148 non-null  object \n",
      " 9   customer_zip_code_prefix  119148 non-null  int64  \n",
      " 10  customer_city             119148 non-null  object \n",
      " 11  customer_state            119148 non-null  object \n",
      " 12  order_item_id             119148 non-null  float64\n",
      " 13  product_id                119148 non-null  object \n",
      " 14  seller_id                 119148 non-null  object \n",
      " 15  price                     119148 non-null  float64\n",
      " 16  freight_value             119148 non-null  float64\n",
      " 17  product_category_name     119148 non-null  object \n",
      " 18  review_id                 119148 non-null  object \n",
      " 19  review_score              119148 non-null  int64  \n",
      " 20  review_creation_date      119148 non-null  object \n",
      " 21  review_answer_timestamp   119148 non-null  object \n",
      "dtypes: float64(4), int64(4), object(14)\n",
      "memory usage: 20.0+ MB\n"
     ]
    }
   ],
   "source": [
    "data.info()"
   ]
  },
  {
   "cell_type": "code",
   "execution_count": 257,
   "id": "591d18ba-424c-4452-8af1-cfc7b7db7d48",
   "metadata": {},
   "outputs": [],
   "source": [
    "data['order_purchase_timestamp']=pd.to_datetime(data.order_purchase_timestamp)"
   ]
  },
  {
   "cell_type": "code",
   "execution_count": 258,
   "id": "9917a96c-3fb9-4b6e-adbd-788144700908",
   "metadata": {},
   "outputs": [],
   "source": [
    "data['year']=data.order_purchase_timestamp.dt.year"
   ]
  },
  {
   "cell_type": "code",
   "execution_count": 261,
   "id": "1b6f52bf-abb2-433c-bb09-fdd05d7ca5b4",
   "metadata": {},
   "outputs": [],
   "source": [
    "data['month']=data.order_purchase_timestamp.dt.month_name()"
   ]
  },
  {
   "cell_type": "code",
   "execution_count": 263,
   "id": "ad839e56-a8a3-4cde-a843-a1539eaa413a",
   "metadata": {},
   "outputs": [],
   "source": [
    "data['week']=data.order_purchase_timestamp.dt.weekday"
   ]
  },
  {
   "cell_type": "code",
   "execution_count": 265,
   "id": "0c85790d-6f8e-4ba4-8ef9-ebd697bfc80f",
   "metadata": {},
   "outputs": [],
   "source": [
    "data['time']=data.order_purchase_timestamp.dt.time"
   ]
  },
  {
   "cell_type": "code",
   "execution_count": 267,
   "id": "04b6211e-443b-4f8c-95d1-e24149784a73",
   "metadata": {},
   "outputs": [],
   "source": [
    "data['days']=data.order_purchase_timestamp.dt.date"
   ]
  },
  {
   "cell_type": "code",
   "execution_count": 269,
   "id": "78435a88-39d3-41eb-bb7a-ad950548b13e",
   "metadata": {},
   "outputs": [],
   "source": [
    "data['month_year']=data.order_purchase_timestamp.dt.date.astype(str).str[0:7]"
   ]
  },
  {
   "cell_type": "code",
   "execution_count": 271,
   "id": "d491717d-2236-4602-b63e-8f8aa43e67c1",
   "metadata": {},
   "outputs": [],
   "source": [
    "data['price_to_pay']=data['price']+data['freight_value']"
   ]
  },
  {
   "cell_type": "code",
   "execution_count": 273,
   "id": "046c7d17-c590-4951-bec0-6adcdc3b2230",
   "metadata": {},
   "outputs": [
    {
     "data": {
      "text/plain": [
       "order_id                    0\n",
       "customer_id                 0\n",
       "order_status                0\n",
       "order_purchase_timestamp    0\n",
       "payment_sequential          0\n",
       "payment_type                0\n",
       "payment_installments        0\n",
       "payment_value               0\n",
       "customer_unique_id          0\n",
       "customer_zip_code_prefix    0\n",
       "customer_city               0\n",
       "customer_state              0\n",
       "order_item_id               0\n",
       "product_id                  0\n",
       "seller_id                   0\n",
       "price                       0\n",
       "freight_value               0\n",
       "product_category_name       0\n",
       "review_id                   0\n",
       "review_score                0\n",
       "review_creation_date        0\n",
       "review_answer_timestamp     0\n",
       "year                        0\n",
       "month                       0\n",
       "week                        0\n",
       "time                        0\n",
       "days                        0\n",
       "month_year                  0\n",
       "price_to_pay                0\n",
       "dtype: int64"
      ]
     },
     "execution_count": 273,
     "metadata": {},
     "output_type": "execute_result"
    }
   ],
   "source": [
    "data.isna().sum()"
   ]
  },
  {
   "cell_type": "code",
   "execution_count": 275,
   "id": "872c6705-b071-4623-ba1a-3527068cc3e9",
   "metadata": {},
   "outputs": [
    {
     "name": "stdout",
     "output_type": "stream",
     "text": [
      "<class 'pandas.core.frame.DataFrame'>\n",
      "RangeIndex: 119148 entries, 0 to 119147\n",
      "Data columns (total 29 columns):\n",
      " #   Column                    Non-Null Count   Dtype         \n",
      "---  ------                    --------------   -----         \n",
      " 0   order_id                  119148 non-null  object        \n",
      " 1   customer_id               119148 non-null  object        \n",
      " 2   order_status              119148 non-null  object        \n",
      " 3   order_purchase_timestamp  119148 non-null  datetime64[ns]\n",
      " 4   payment_sequential        119148 non-null  int64         \n",
      " 5   payment_type              119148 non-null  object        \n",
      " 6   payment_installments      119148 non-null  int64         \n",
      " 7   payment_value             119148 non-null  float64       \n",
      " 8   customer_unique_id        119148 non-null  object        \n",
      " 9   customer_zip_code_prefix  119148 non-null  int64         \n",
      " 10  customer_city             119148 non-null  object        \n",
      " 11  customer_state            119148 non-null  object        \n",
      " 12  order_item_id             119148 non-null  float64       \n",
      " 13  product_id                119148 non-null  object        \n",
      " 14  seller_id                 119148 non-null  object        \n",
      " 15  price                     119148 non-null  float64       \n",
      " 16  freight_value             119148 non-null  float64       \n",
      " 17  product_category_name     119148 non-null  object        \n",
      " 18  review_id                 119148 non-null  object        \n",
      " 19  review_score              119148 non-null  int64         \n",
      " 20  review_creation_date      119148 non-null  object        \n",
      " 21  review_answer_timestamp   119148 non-null  object        \n",
      " 22  year                      119148 non-null  int32         \n",
      " 23  month                     119148 non-null  object        \n",
      " 24  week                      119148 non-null  int32         \n",
      " 25  time                      119148 non-null  object        \n",
      " 26  days                      119148 non-null  object        \n",
      " 27  month_year                119148 non-null  object        \n",
      " 28  price_to_pay              119148 non-null  float64       \n",
      "dtypes: datetime64[ns](1), float64(5), int32(2), int64(4), object(17)\n",
      "memory usage: 25.5+ MB\n"
     ]
    }
   ],
   "source": [
    "data.info()"
   ]
  },
  {
   "cell_type": "code",
   "execution_count": 277,
   "id": "b665cd6a-6933-49f3-9685-af90110d4ae4",
   "metadata": {},
   "outputs": [],
   "source": [
    "a=data.price_to_pay.sum()"
   ]
  },
  {
   "cell_type": "code",
   "execution_count": 279,
   "id": "f90f3b41-d40c-498b-904d-bb271fd5fb36",
   "metadata": {},
   "outputs": [
    {
     "name": "stdout",
     "output_type": "stream",
     "text": [
      "The Total Revenue is:- 16807854.92\n"
     ]
    }
   ],
   "source": [
    "print('The Total Revenue is:-',a)"
   ]
  },
  {
   "cell_type": "code",
   "execution_count": 281,
   "id": "3a723f47-f662-41c8-86a2-26a41c3b47c0",
   "metadata": {},
   "outputs": [],
   "source": [
    "b=data.order_id.count()"
   ]
  },
  {
   "cell_type": "code",
   "execution_count": 283,
   "id": "f728ab92-1cf5-4c21-b55c-ed3fcb8962e1",
   "metadata": {},
   "outputs": [
    {
     "name": "stdout",
     "output_type": "stream",
     "text": [
      "The Total Order Quantity is:- 119148\n"
     ]
    }
   ],
   "source": [
    "print('The Total Order Quantity is:-', b)"
   ]
  },
  {
   "cell_type": "code",
   "execution_count": 285,
   "id": "fb18c2c0-88a8-437f-bed9-dfdff2dbff00",
   "metadata": {},
   "outputs": [],
   "source": [
    "c=data.product_id.nunique()"
   ]
  },
  {
   "cell_type": "code",
   "execution_count": 287,
   "id": "478766d9-51d3-40f3-b546-5b6971a6929d",
   "metadata": {},
   "outputs": [
    {
     "name": "stdout",
     "output_type": "stream",
     "text": [
      "The Total no of product are:- 32952\n"
     ]
    }
   ],
   "source": [
    "print('The Total no of product are:-', c)"
   ]
  },
  {
   "cell_type": "code",
   "execution_count": 289,
   "id": "3d9a893c-7850-4adc-a6e9-8e79d37ec7ed",
   "metadata": {},
   "outputs": [],
   "source": [
    "d=data.product_category_name.nunique()"
   ]
  },
  {
   "cell_type": "code",
   "execution_count": 291,
   "id": "2df8ebb8-f8a0-4a46-adc1-ccc2ca91d63f",
   "metadata": {},
   "outputs": [
    {
     "name": "stdout",
     "output_type": "stream",
     "text": [
      "The Total no of product category name are:- 72\n"
     ]
    }
   ],
   "source": [
    "print('The Total no of product category name are:-',d)"
   ]
  },
  {
   "cell_type": "code",
   "execution_count": 293,
   "id": "97a6b81f-e4cf-497a-920f-1af5bc790c33",
   "metadata": {},
   "outputs": [],
   "source": [
    "e=data.seller_id.nunique()"
   ]
  },
  {
   "cell_type": "code",
   "execution_count": 295,
   "id": "4716d93a-92e4-4d86-b458-abb42771c4fb",
   "metadata": {},
   "outputs": [
    {
     "name": "stdout",
     "output_type": "stream",
     "text": [
      "The Total no of seller are:- 3096\n"
     ]
    }
   ],
   "source": [
    "print('The Total no of seller are:-', e)"
   ]
  },
  {
   "cell_type": "code",
   "execution_count": 297,
   "id": "43e1e208-e044-4336-9fd9-e64d42904ae6",
   "metadata": {},
   "outputs": [],
   "source": [
    "f=data.customer_zip_code_prefix.nunique()"
   ]
  },
  {
   "cell_type": "code",
   "execution_count": 299,
   "id": "fc0a5c13-6458-4779-96f6-466aa2ab7b5f",
   "metadata": {},
   "outputs": [
    {
     "name": "stdout",
     "output_type": "stream",
     "text": [
      "The total location are:- 14994\n"
     ]
    }
   ],
   "source": [
    "print('The total location are:-', f)"
   ]
  },
  {
   "cell_type": "code",
   "execution_count": 301,
   "id": "fb8a7b16-37fa-4f77-94f2-3844a46926f1",
   "metadata": {},
   "outputs": [],
   "source": [
    "g=data.payment_type.nunique()\n"
   ]
  },
  {
   "cell_type": "code",
   "execution_count": 303,
   "id": "da54163d-7cd2-4d00-9e82-782a85b17ae3",
   "metadata": {},
   "outputs": [
    {
     "name": "stdout",
     "output_type": "stream",
     "text": [
      "The total no. of payment are:- 5\n"
     ]
    }
   ],
   "source": [
    "print('The total no. of payment are:-',g)"
   ]
  },
  {
   "cell_type": "markdown",
   "id": "db9f4c5f-a165-40c6-9404-02d7e731e21f",
   "metadata": {},
   "source": [
    "### b. Understanding how many new customers acquired every month "
   ]
  },
  {
   "cell_type": "code",
   "execution_count": 306,
   "id": "2dcf3e0a-5393-4c86-8c5e-1b6ea8673c2b",
   "metadata": {},
   "outputs": [],
   "source": [
    "a1=data.groupby(['order_id','customer_id']).last().reset_index()"
   ]
  },
  {
   "cell_type": "code",
   "execution_count": 307,
   "id": "ad0e63b1-b637-4e74-b27b-74a8d4f6ba34",
   "metadata": {},
   "outputs": [],
   "source": [
    "customer_count=a1.groupby(['month_year',a1.customer_id.rename('customer')]).customer_id.count().reset_index()"
   ]
  },
  {
   "cell_type": "code",
   "execution_count": 308,
   "id": "32cd7a2b-9a50-48f5-8e98-98a228ab08b3",
   "metadata": {},
   "outputs": [],
   "source": [
    "customer_purchase=a1.groupby('customer_id').month_year.min().reset_index().rename(columns={'customer_id':'customer','month_year':'purchase_month'})"
   ]
  },
  {
   "cell_type": "code",
   "execution_count": 309,
   "id": "9854d4e3-63c0-48a1-a2ca-adae5929e5e5",
   "metadata": {},
   "outputs": [],
   "source": [
    "df=pd.merge(left=customer_count,right=customer_purchase,on='customer')"
   ]
  },
  {
   "cell_type": "code",
   "execution_count": 310,
   "id": "7bfdf959-e125-4913-8efa-ef233f296674",
   "metadata": {},
   "outputs": [],
   "source": [
    "df.customer_id=np.where(df.month_year == df.purchase_month,'New','Old')"
   ]
  },
  {
   "cell_type": "code",
   "execution_count": 311,
   "id": "0d943904-14f0-48b4-9a58-7f14c6e29826",
   "metadata": {},
   "outputs": [
    {
     "data": {
      "text/html": [
       "<div>\n",
       "<style scoped>\n",
       "    .dataframe tbody tr th:only-of-type {\n",
       "        vertical-align: middle;\n",
       "    }\n",
       "\n",
       "    .dataframe tbody tr th {\n",
       "        vertical-align: top;\n",
       "    }\n",
       "\n",
       "    .dataframe thead th {\n",
       "        text-align: right;\n",
       "    }\n",
       "</style>\n",
       "<table border=\"1\" class=\"dataframe\">\n",
       "  <thead>\n",
       "    <tr style=\"text-align: right;\">\n",
       "      <th></th>\n",
       "      <th>month_year</th>\n",
       "      <th>customer</th>\n",
       "      <th>customer_id</th>\n",
       "      <th>purchase_month</th>\n",
       "    </tr>\n",
       "  </thead>\n",
       "  <tbody>\n",
       "    <tr>\n",
       "      <th>0</th>\n",
       "      <td>2016-09</td>\n",
       "      <td>08c5351a6aca1c1589a38f244edeee9d</td>\n",
       "      <td>New</td>\n",
       "      <td>2016-09</td>\n",
       "    </tr>\n",
       "    <tr>\n",
       "      <th>1</th>\n",
       "      <td>2016-09</td>\n",
       "      <td>622e13439d6b5a0b486c435618b2679e</td>\n",
       "      <td>New</td>\n",
       "      <td>2016-09</td>\n",
       "    </tr>\n",
       "    <tr>\n",
       "      <th>2</th>\n",
       "      <td>2016-09</td>\n",
       "      <td>683c54fc24d40ee9f8a6fc179fd9856c</td>\n",
       "      <td>New</td>\n",
       "      <td>2016-09</td>\n",
       "    </tr>\n",
       "    <tr>\n",
       "      <th>3</th>\n",
       "      <td>2016-10</td>\n",
       "      <td>00474d2582fd72663036795b7ab8cfc1</td>\n",
       "      <td>New</td>\n",
       "      <td>2016-10</td>\n",
       "    </tr>\n",
       "    <tr>\n",
       "      <th>4</th>\n",
       "      <td>2016-10</td>\n",
       "      <td>01415cfeb907d8ce0e17075b4c097fe9</td>\n",
       "      <td>New</td>\n",
       "      <td>2016-10</td>\n",
       "    </tr>\n",
       "    <tr>\n",
       "      <th>...</th>\n",
       "      <td>...</td>\n",
       "      <td>...</td>\n",
       "      <td>...</td>\n",
       "      <td>...</td>\n",
       "    </tr>\n",
       "    <tr>\n",
       "      <th>99435</th>\n",
       "      <td>2018-09</td>\n",
       "      <td>fea4d57ed3a45455f89c25ef3dae8ee8</td>\n",
       "      <td>New</td>\n",
       "      <td>2018-09</td>\n",
       "    </tr>\n",
       "    <tr>\n",
       "      <th>99436</th>\n",
       "      <td>2018-10</td>\n",
       "      <td>4c2ec60c29d10c34bd49cb88aa85cfc4</td>\n",
       "      <td>New</td>\n",
       "      <td>2018-10</td>\n",
       "    </tr>\n",
       "    <tr>\n",
       "      <th>99437</th>\n",
       "      <td>2018-10</td>\n",
       "      <td>856336203359aa6a61bf3826f7d84c49</td>\n",
       "      <td>New</td>\n",
       "      <td>2018-10</td>\n",
       "    </tr>\n",
       "    <tr>\n",
       "      <th>99438</th>\n",
       "      <td>2018-10</td>\n",
       "      <td>a4b417188addbc05b26b72d5e44837a1</td>\n",
       "      <td>New</td>\n",
       "      <td>2018-10</td>\n",
       "    </tr>\n",
       "    <tr>\n",
       "      <th>99439</th>\n",
       "      <td>2018-10</td>\n",
       "      <td>bf6181a85bbb4115736c0a8db1a53be3</td>\n",
       "      <td>New</td>\n",
       "      <td>2018-10</td>\n",
       "    </tr>\n",
       "  </tbody>\n",
       "</table>\n",
       "<p>99440 rows × 4 columns</p>\n",
       "</div>"
      ],
      "text/plain": [
       "      month_year                          customer customer_id purchase_month\n",
       "0        2016-09  08c5351a6aca1c1589a38f244edeee9d         New        2016-09\n",
       "1        2016-09  622e13439d6b5a0b486c435618b2679e         New        2016-09\n",
       "2        2016-09  683c54fc24d40ee9f8a6fc179fd9856c         New        2016-09\n",
       "3        2016-10  00474d2582fd72663036795b7ab8cfc1         New        2016-10\n",
       "4        2016-10  01415cfeb907d8ce0e17075b4c097fe9         New        2016-10\n",
       "...          ...                               ...         ...            ...\n",
       "99435    2018-09  fea4d57ed3a45455f89c25ef3dae8ee8         New        2018-09\n",
       "99436    2018-10  4c2ec60c29d10c34bd49cb88aa85cfc4         New        2018-10\n",
       "99437    2018-10  856336203359aa6a61bf3826f7d84c49         New        2018-10\n",
       "99438    2018-10  a4b417188addbc05b26b72d5e44837a1         New        2018-10\n",
       "99439    2018-10  bf6181a85bbb4115736c0a8db1a53be3         New        2018-10\n",
       "\n",
       "[99440 rows x 4 columns]"
      ]
     },
     "execution_count": 311,
     "metadata": {},
     "output_type": "execute_result"
    }
   ],
   "source": [
    "df"
   ]
  },
  {
   "cell_type": "code",
   "execution_count": 312,
   "id": "4de0e7b5-7403-4c6c-b62d-ef2aeea4400d",
   "metadata": {},
   "outputs": [],
   "source": [
    "a=df.groupby('month_year').customer_id.count().reset_index()"
   ]
  },
  {
   "cell_type": "code",
   "execution_count": 313,
   "id": "356ebdaa-b4ce-4920-89c1-26d57a166a0c",
   "metadata": {},
   "outputs": [
    {
     "name": "stdout",
     "output_type": "stream",
     "text": [
      "The total No. of New Customer aquired by company by each month are:-\n",
      "   month_year  customer_id\n",
      "0     2016-09            3\n",
      "1     2016-10          324\n",
      "2     2016-12            1\n",
      "3     2017-01          800\n",
      "4     2017-02         1780\n",
      "5     2017-03         2682\n",
      "6     2017-04         2404\n",
      "7     2017-05         3700\n",
      "8     2017-06         3245\n",
      "9     2017-07         4026\n",
      "10    2017-08         4331\n",
      "11    2017-09         4285\n",
      "12    2017-10         4631\n",
      "13    2017-11         7544\n",
      "14    2017-12         5673\n",
      "15    2018-01         7269\n",
      "16    2018-02         6728\n",
      "17    2018-03         7211\n",
      "18    2018-04         6939\n",
      "19    2018-05         6873\n",
      "20    2018-06         6167\n",
      "21    2018-07         6292\n",
      "22    2018-08         6512\n",
      "23    2018-09           16\n",
      "24    2018-10            4\n"
     ]
    }
   ],
   "source": [
    "print('The total No. of New Customer aquired by company by each month are:-')\n",
    "print(a)"
   ]
  },
  {
   "cell_type": "markdown",
   "id": "993a1bf5-982c-40b2-ad4a-c68dccb7cf01",
   "metadata": {},
   "source": [
    "### c. Understand the retention of customers on month on month basis "
   ]
  },
  {
   "cell_type": "code",
   "execution_count": 316,
   "id": "f4479d06-b9d4-407e-a325-160a04542874",
   "metadata": {},
   "outputs": [],
   "source": [
    "s=data.customer_id.nunique()"
   ]
  },
  {
   "cell_type": "code",
   "execution_count": 318,
   "id": "bb96b9a4-f1d9-456a-93e6-d7bf6ccdc167",
   "metadata": {},
   "outputs": [
    {
     "name": "stdout",
     "output_type": "stream",
     "text": [
      "The NO. of retention of customers on month on month basis are:- 99440\n"
     ]
    }
   ],
   "source": [
    "print('The NO. of retention of customers on month on month basis are:-', s)"
   ]
  },
  {
   "cell_type": "markdown",
   "id": "165dfc04-e082-4b56-8132-79cf4dc34f43",
   "metadata": {},
   "source": [
    "### d. How the revenues from existing/new customers on month on month basis "
   ]
  },
  {
   "cell_type": "code",
   "execution_count": null,
   "id": "a3994442-7fe5-4490-b82d-52f8d846e73e",
   "metadata": {},
   "outputs": [],
   "source": [
    "sns.barplot(data.month_year,data.payment_value)\n",
    "plt.ticklabel_format(style='plain',axis='y')\n",
    "plt.show()"
   ]
  },
  {
   "cell_type": "markdown",
   "id": "8b2ee06c-b641-4a91-8f53-365ca370a073",
   "metadata": {},
   "source": [
    "### e. Understand the trends/seasonality of sales, quantity by category, location, month, week, day, time, channel, payment method etc… "
   ]
  },
  {
   "cell_type": "code",
   "execution_count": null,
   "id": "8becb36b-d294-4d7f-bae3-589d37e0f911",
   "metadata": {},
   "outputs": [],
   "source": [
    "data.head(2)"
   ]
  },
  {
   "cell_type": "code",
   "execution_count": 322,
   "id": "20f045aa-0680-4e5d-839f-c3635989b3d8",
   "metadata": {},
   "outputs": [
    {
     "data": {
      "text/plain": [
       "Index(['order_id', 'customer_id', 'order_status', 'order_purchase_timestamp',\n",
       "       'payment_sequential', 'payment_type', 'payment_installments',\n",
       "       'payment_value', 'customer_unique_id', 'customer_zip_code_prefix',\n",
       "       'customer_city', 'customer_state', 'order_item_id', 'product_id',\n",
       "       'seller_id', 'price', 'freight_value', 'product_category_name',\n",
       "       'review_id', 'review_score', 'review_creation_date',\n",
       "       'review_answer_timestamp', 'year', 'month', 'week', 'time', 'days',\n",
       "       'month_year', 'price_to_pay'],\n",
       "      dtype='object')"
      ]
     },
     "execution_count": 322,
     "metadata": {},
     "output_type": "execute_result"
    }
   ],
   "source": [
    "data.columns"
   ]
  },
  {
   "cell_type": "code",
   "execution_count": 324,
   "id": "3ef05483-bc70-4d30-8857-6bcff8b45a5a",
   "metadata": {},
   "outputs": [],
   "source": [
    "month_sales=data.groupby(['month'])[['payment_value']].sum().reset_index()"
   ]
  },
  {
   "cell_type": "code",
   "execution_count": 326,
   "id": "8813033f-d8b7-48e9-adaf-be615dd19824",
   "metadata": {},
   "outputs": [
    {
     "data": {
      "text/plain": [
       "[<matplotlib.lines.Line2D at 0x21c8ed7ffb0>]"
      ]
     },
     "execution_count": 326,
     "metadata": {},
     "output_type": "execute_result"
    },
    {
     "data": {
      "image/png": "[encoded data removed]",
      "text/plain": [
       "<Figure size 1200x400 with 1 Axes>"
      ]
     },
     "metadata": {},
     "output_type": "display_data"
    }
   ],
   "source": [
    "plt.figure(figsize=(12,4))\n",
    "plt.plot(month_sales['month'],month_sales['payment_value'],label='trend_monthly_sales')"
   ]
  },
  {
   "cell_type": "code",
   "execution_count": 328,
   "id": "1cc8d082-6895-49d1-b6bc-bf22e72c025e",
   "metadata": {},
   "outputs": [],
   "source": [
    "category_sales=data.groupby(['month','product_category_name'])['order_item_id'].count().reset_index()"
   ]
  },
  {
   "cell_type": "code",
   "execution_count": 330,
   "id": "715dbd17-f05f-444a-afea-5e76835eb467",
   "metadata": {},
   "outputs": [
    {
     "data": {
      "text/plain": [
       "[<matplotlib.lines.Line2D at 0x21c940f8c50>]"
      ]
     },
     "execution_count": 330,
     "metadata": {},
     "output_type": "execute_result"
    },
    {
     "data": {
      "image/png": "[encoded data removed]",
      "text/plain": [
       "<Figure size 1200x300 with 1 Axes>"
      ]
     },
     "metadata": {},
     "output_type": "display_data"
    }
   ],
   "source": [
    "plt.figure(figsize=(12,3))\n",
    "plt.plot(category_sales['month'],category_sales['order_item_id'],label='Trend_line_category_sales')"
   ]
  },
  {
   "cell_type": "code",
   "execution_count": 332,
   "id": "78c9e7fc-184b-4212-b3a4-980993a72b9d",
   "metadata": {},
   "outputs": [],
   "source": [
    "Sales_customer=data.groupby(['customer_state'])['payment_value'].sum().reset_index()"
   ]
  },
  {
   "cell_type": "code",
   "execution_count": 334,
   "id": "f1ada77e-2fcc-4d88-aeb5-c4284cb60f0f",
   "metadata": {},
   "outputs": [
    {
     "data": {
      "text/plain": [
       "[<matplotlib.lines.Line2D at 0x21c940f19d0>]"
      ]
     },
     "execution_count": 334,
     "metadata": {},
     "output_type": "execute_result"
    },
    {
     "data": {
      "image/png": "[encoded data removed]",
      "text/plain": [
       "<Figure size 2500x500 with 1 Axes>"
      ]
     },
     "metadata": {},
     "output_type": "display_data"
    }
   ],
   "source": [
    "plt.figure(figsize=(25,5))\n",
    "plt.plot(Sales_customer['customer_state'],Sales_customer['payment_value'],label='Trend_line_sales_customer_by_each_state')"
   ]
  },
  {
   "cell_type": "code",
   "execution_count": 336,
   "id": "2b579289-8c7c-4aab-9a90-7cd78044ef3f",
   "metadata": {},
   "outputs": [],
   "source": [
    "payment_type=data.groupby(['payment_type'])['payment_value'].sum().reset_index()"
   ]
  },
  {
   "cell_type": "code",
   "execution_count": 338,
   "id": "35f8c4cb-c6d7-43bd-8aff-75457949177e",
   "metadata": {},
   "outputs": [
    {
     "data": {
      "text/plain": [
       "[<matplotlib.lines.Line2D at 0x21c8bfc6b70>]"
      ]
     },
     "execution_count": 338,
     "metadata": {},
     "output_type": "execute_result"
    },
    {
     "data": {
      "image/png": "[encoded data removed]",
      "text/plain": [
       "<Figure size 640x480 with 1 Axes>"
      ]
     },
     "metadata": {},
     "output_type": "display_data"
    }
   ],
   "source": [
    "plt.plot(payment_type['payment_type'],payment_type['payment_value'],label='line_trend_of_payment_type')"
   ]
  },
  {
   "cell_type": "markdown",
   "id": "162276d0-5fd6-42a6-8074-f7d38e3a0c43",
   "metadata": {},
   "source": [
    "### f. Popular Products by month, seller, state, category. "
   ]
  },
  {
   "cell_type": "code",
   "execution_count": 341,
   "id": "939d957f-38fe-4151-8837-4030db377c84",
   "metadata": {},
   "outputs": [],
   "source": [
    "k=data.groupby(['month'])[['product_category_name']].count().reset_index()"
   ]
  },
  {
   "cell_type": "code",
   "execution_count": 343,
   "id": "5c4d2c55-405b-4dab-868f-58f601dbc6a0",
   "metadata": {},
   "outputs": [
    {
     "name": "stdout",
     "output_type": "stream",
     "text": [
      "The popular product of each month are:-\n",
      "        month  product_category_name\n",
      "0       April                  11156\n",
      "1      August                  12802\n",
      "2    December                   6648\n",
      "3    February                  10183\n",
      "4     January                   9690\n",
      "5        July                  12325\n",
      "6        June                  11256\n",
      "7       March                  11858\n",
      "8         May                  12743\n",
      "9    November                   9191\n",
      "10    October                   6089\n",
      "11  September                   5207\n"
     ]
    }
   ],
   "source": [
    "print('The popular product of each month are:-')\n",
    "print(k)"
   ]
  },
  {
   "cell_type": "code",
   "execution_count": 345,
   "id": "db9442cb-f6a2-402f-a8f2-2afe65cadf13",
   "metadata": {},
   "outputs": [],
   "source": [
    "l=data.groupby(['seller_id'])['product_category_name'].count().reset_index().sort_values(by='product_category_name')"
   ]
  },
  {
   "cell_type": "code",
   "execution_count": 347,
   "id": "2b80c94b-8226-4d90-b925-2fc3cea89ce0",
   "metadata": {},
   "outputs": [
    {
     "name": "stdout",
     "output_type": "stream",
     "text": [
      "The popular seller are :-\n",
      "                             seller_id  product_category_name\n",
      "1547  7d81e74a4755b552267cd5e081563028                      1\n",
      "524   2c538755f1ca9540af144f266e70df6c                      1\n",
      "526   2c9005d8043aff18b8557ffb7b13cda4                      1\n",
      "1918  9d69ba0a7a626a64dc5db08e529559cf                      1\n",
      "1905  9c57bc60cfad5ee62d35d3f1ce4593a1                      1\n",
      "...                                ...                    ...\n",
      "2643  da8622b14eb17ae2831f4ac5b9dab84a                   1662\n",
      "2481  cc419e0650a3c5ba77189a1882b7556a                   1893\n",
      "368   1f50f920176fa81dab994f9023523100                   2017\n",
      "1235  6560211a19b47992c3666cc44a7e94c0                   2130\n",
      "881   4a3ca9315b744ce9f8e9374361493884                   2155\n",
      "\n",
      "[3096 rows x 2 columns]\n"
     ]
    }
   ],
   "source": [
    "print('The popular seller are :-')\n",
    "print(l)"
   ]
  },
  {
   "cell_type": "code",
   "execution_count": 349,
   "id": "f3176f19-91f6-420b-afb3-0b6ac94b5a64",
   "metadata": {},
   "outputs": [],
   "source": [
    "m=data.groupby(['customer_state'])['product_category_name'].count().reset_index()"
   ]
  },
  {
   "cell_type": "code",
   "execution_count": 351,
   "id": "4f3ac7da-d035-45ad-bbfd-62b9d1dea276",
   "metadata": {},
   "outputs": [
    {
     "name": "stdout",
     "output_type": "stream",
     "text": [
      "The popular customer location:-\n",
      "       customer_state  product_category_name\n",
      "0      Andhra Pradesh                  73302\n",
      "1   Arunachal Pradesh                   1328\n",
      "2        Chhattisgarh                   7480\n",
      "3               Delhi                   3957\n",
      "4                 Goa                     10\n",
      "5             Gujarat                   8949\n",
      "6             Haryana                   2664\n",
      "7    Himachal Pradesh                    870\n",
      "8     Jammu & Kashmir                   1839\n",
      "9           Karnataka                   4595\n",
      "10             Kerala                   1794\n",
      "11     Madhya Pradesh                   3410\n",
      "12        Maharashtra                   2340\n",
      "13             Orissa                    701\n",
      "14             Punjab                    777\n",
      "15          Rajasthan                    926\n",
      "16         Tamil Nadu                   2477\n",
      "17      Uttar Pradesh                   1188\n",
      "18        Uttaranchal                    110\n",
      "19        West Bengal                    431\n"
     ]
    }
   ],
   "source": [
    "print('The popular customer location:-')\n",
    "print(m)"
   ]
  },
  {
   "cell_type": "markdown",
   "id": "03e03bad-61cb-4b7b-aa99-85cf902d5484",
   "metadata": {},
   "source": [
    "### g. Popular categories by state, month"
   ]
  },
  {
   "cell_type": "code",
   "execution_count": 358,
   "id": "cdb62de8-b0d4-493d-aae0-dd5808442898",
   "metadata": {},
   "outputs": [
    {
     "data": {
      "text/plain": [
       "Index(['order_id', 'customer_id', 'order_status', 'order_purchase_timestamp',\n",
       "       'payment_sequential', 'payment_type', 'payment_installments',\n",
       "       'payment_value', 'customer_unique_id', 'customer_zip_code_prefix',\n",
       "       'customer_city', 'customer_state', 'order_item_id', 'product_id',\n",
       "       'seller_id', 'price', 'freight_value', 'product_category_name',\n",
       "       'review_id', 'review_score', 'review_creation_date',\n",
       "       'review_answer_timestamp', 'year', 'month', 'week', 'time', 'days',\n",
       "       'month_year', 'price_to_pay'],\n",
       "      dtype='object')"
      ]
     },
     "execution_count": 358,
     "metadata": {},
     "output_type": "execute_result"
    }
   ],
   "source": [
    "data.columns"
   ]
  },
  {
   "cell_type": "code",
   "execution_count": 380,
   "id": "bd41aedc-5d3f-496a-9cad-c5b68bb5d3e3",
   "metadata": {
    "scrolled": true
   },
   "outputs": [
    {
     "data": {
      "text/html": [
       "<div>\n",
       "<style scoped>\n",
       "    .dataframe tbody tr th:only-of-type {\n",
       "        vertical-align: middle;\n",
       "    }\n",
       "\n",
       "    .dataframe tbody tr th {\n",
       "        vertical-align: top;\n",
       "    }\n",
       "\n",
       "    .dataframe thead tr th {\n",
       "        text-align: left;\n",
       "    }\n",
       "\n",
       "    .dataframe thead tr:last-of-type th {\n",
       "        text-align: right;\n",
       "    }\n",
       "</style>\n",
       "<table border=\"1\" class=\"dataframe\">\n",
       "  <thead>\n",
       "    <tr>\n",
       "      <th></th>\n",
       "      <th colspan=\"10\" halign=\"left\">customer_city</th>\n",
       "      <th>...</th>\n",
       "      <th colspan=\"10\" halign=\"left\">year</th>\n",
       "    </tr>\n",
       "    <tr>\n",
       "      <th>product_category_name</th>\n",
       "      <th>Agro_Industry_And_Commerce</th>\n",
       "      <th>Air_Conditioning</th>\n",
       "      <th>Art</th>\n",
       "      <th>Arts_And_Craftmanship</th>\n",
       "      <th>Audio</th>\n",
       "      <th>Auto</th>\n",
       "      <th>Baby</th>\n",
       "      <th>Bed_Bath_Table</th>\n",
       "      <th>Books_General_Interest</th>\n",
       "      <th>Books_Imported</th>\n",
       "      <th>...</th>\n",
       "      <th>Signaling_And_Security</th>\n",
       "      <th>Small_Appliances</th>\n",
       "      <th>Small_Appliances_Home_Oven_And_Coffee</th>\n",
       "      <th>Sports_Leisure</th>\n",
       "      <th>Stationery</th>\n",
       "      <th>Tablets_Printing_Image</th>\n",
       "      <th>Telephony</th>\n",
       "      <th>Toys</th>\n",
       "      <th>Watches_Gifts</th>\n",
       "      <th>unknown</th>\n",
       "    </tr>\n",
       "    <tr>\n",
       "      <th>customer_state</th>\n",
       "      <th></th>\n",
       "      <th></th>\n",
       "      <th></th>\n",
       "      <th></th>\n",
       "      <th></th>\n",
       "      <th></th>\n",
       "      <th></th>\n",
       "      <th></th>\n",
       "      <th></th>\n",
       "      <th></th>\n",
       "      <th></th>\n",
       "      <th></th>\n",
       "      <th></th>\n",
       "      <th></th>\n",
       "      <th></th>\n",
       "      <th></th>\n",
       "      <th></th>\n",
       "      <th></th>\n",
       "      <th></th>\n",
       "      <th></th>\n",
       "      <th></th>\n",
       "    </tr>\n",
       "  </thead>\n",
       "  <tbody>\n",
       "    <tr>\n",
       "      <th>Andhra Pradesh</th>\n",
       "      <td>177.0</td>\n",
       "      <td>213.0</td>\n",
       "      <td>145.0</td>\n",
       "      <td>17.0</td>\n",
       "      <td>254.0</td>\n",
       "      <td>2418.0</td>\n",
       "      <td>1974.0</td>\n",
       "      <td>7736.0</td>\n",
       "      <td>334.0</td>\n",
       "      <td>42.0</td>\n",
       "      <td>...</td>\n",
       "      <td>129.0</td>\n",
       "      <td>440.0</td>\n",
       "      <td>58.0</td>\n",
       "      <td>5568.0</td>\n",
       "      <td>1593.0</td>\n",
       "      <td>53.0</td>\n",
       "      <td>2540.0</td>\n",
       "      <td>2714.0</td>\n",
       "      <td>3783.0</td>\n",
       "      <td>1643.0</td>\n",
       "    </tr>\n",
       "    <tr>\n",
       "      <th>Arunachal Pradesh</th>\n",
       "      <td>1.0</td>\n",
       "      <td>1.0</td>\n",
       "      <td>4.0</td>\n",
       "      <td>NaN</td>\n",
       "      <td>1.0</td>\n",
       "      <td>51.0</td>\n",
       "      <td>43.0</td>\n",
       "      <td>128.0</td>\n",
       "      <td>7.0</td>\n",
       "      <td>4.0</td>\n",
       "      <td>...</td>\n",
       "      <td>2.0</td>\n",
       "      <td>10.0</td>\n",
       "      <td>NaN</td>\n",
       "      <td>92.0</td>\n",
       "      <td>30.0</td>\n",
       "      <td>NaN</td>\n",
       "      <td>47.0</td>\n",
       "      <td>41.0</td>\n",
       "      <td>78.0</td>\n",
       "      <td>31.0</td>\n",
       "    </tr>\n",
       "    <tr>\n",
       "      <th>Chhattisgarh</th>\n",
       "      <td>17.0</td>\n",
       "      <td>12.0</td>\n",
       "      <td>17.0</td>\n",
       "      <td>1.0</td>\n",
       "      <td>24.0</td>\n",
       "      <td>307.0</td>\n",
       "      <td>204.0</td>\n",
       "      <td>733.0</td>\n",
       "      <td>40.0</td>\n",
       "      <td>4.0</td>\n",
       "      <td>...</td>\n",
       "      <td>12.0</td>\n",
       "      <td>46.0</td>\n",
       "      <td>6.0</td>\n",
       "      <td>523.0</td>\n",
       "      <td>166.0</td>\n",
       "      <td>8.0</td>\n",
       "      <td>297.0</td>\n",
       "      <td>267.0</td>\n",
       "      <td>407.0</td>\n",
       "      <td>146.0</td>\n",
       "    </tr>\n",
       "    <tr>\n",
       "      <th>Delhi</th>\n",
       "      <td>5.0</td>\n",
       "      <td>10.0</td>\n",
       "      <td>12.0</td>\n",
       "      <td>2.0</td>\n",
       "      <td>13.0</td>\n",
       "      <td>169.0</td>\n",
       "      <td>95.0</td>\n",
       "      <td>314.0</td>\n",
       "      <td>36.0</td>\n",
       "      <td>1.0</td>\n",
       "      <td>...</td>\n",
       "      <td>5.0</td>\n",
       "      <td>28.0</td>\n",
       "      <td>NaN</td>\n",
       "      <td>284.0</td>\n",
       "      <td>81.0</td>\n",
       "      <td>6.0</td>\n",
       "      <td>194.0</td>\n",
       "      <td>147.0</td>\n",
       "      <td>222.0</td>\n",
       "      <td>74.0</td>\n",
       "    </tr>\n",
       "    <tr>\n",
       "      <th>Goa</th>\n",
       "      <td>NaN</td>\n",
       "      <td>NaN</td>\n",
       "      <td>NaN</td>\n",
       "      <td>NaN</td>\n",
       "      <td>NaN</td>\n",
       "      <td>1.0</td>\n",
       "      <td>NaN</td>\n",
       "      <td>NaN</td>\n",
       "      <td>NaN</td>\n",
       "      <td>NaN</td>\n",
       "      <td>...</td>\n",
       "      <td>NaN</td>\n",
       "      <td>NaN</td>\n",
       "      <td>NaN</td>\n",
       "      <td>1.0</td>\n",
       "      <td>NaN</td>\n",
       "      <td>NaN</td>\n",
       "      <td>1.0</td>\n",
       "      <td>NaN</td>\n",
       "      <td>NaN</td>\n",
       "      <td>NaN</td>\n",
       "    </tr>\n",
       "    <tr>\n",
       "      <th>Gujarat</th>\n",
       "      <td>15.0</td>\n",
       "      <td>20.0</td>\n",
       "      <td>9.0</td>\n",
       "      <td>2.0</td>\n",
       "      <td>22.0</td>\n",
       "      <td>366.0</td>\n",
       "      <td>260.0</td>\n",
       "      <td>808.0</td>\n",
       "      <td>34.0</td>\n",
       "      <td>1.0</td>\n",
       "      <td>...</td>\n",
       "      <td>22.0</td>\n",
       "      <td>44.0</td>\n",
       "      <td>4.0</td>\n",
       "      <td>733.0</td>\n",
       "      <td>229.0</td>\n",
       "      <td>7.0</td>\n",
       "      <td>375.0</td>\n",
       "      <td>308.0</td>\n",
       "      <td>443.0</td>\n",
       "      <td>178.0</td>\n",
       "    </tr>\n",
       "    <tr>\n",
       "      <th>Haryana</th>\n",
       "      <td>5.0</td>\n",
       "      <td>6.0</td>\n",
       "      <td>5.0</td>\n",
       "      <td>NaN</td>\n",
       "      <td>11.0</td>\n",
       "      <td>111.0</td>\n",
       "      <td>59.0</td>\n",
       "      <td>296.0</td>\n",
       "      <td>8.0</td>\n",
       "      <td>NaN</td>\n",
       "      <td>...</td>\n",
       "      <td>7.0</td>\n",
       "      <td>5.0</td>\n",
       "      <td>1.0</td>\n",
       "      <td>205.0</td>\n",
       "      <td>71.0</td>\n",
       "      <td>1.0</td>\n",
       "      <td>92.0</td>\n",
       "      <td>81.0</td>\n",
       "      <td>126.0</td>\n",
       "      <td>65.0</td>\n",
       "    </tr>\n",
       "    <tr>\n",
       "      <th>Himachal Pradesh</th>\n",
       "      <td>NaN</td>\n",
       "      <td>2.0</td>\n",
       "      <td>1.0</td>\n",
       "      <td>NaN</td>\n",
       "      <td>1.0</td>\n",
       "      <td>34.0</td>\n",
       "      <td>27.0</td>\n",
       "      <td>85.0</td>\n",
       "      <td>3.0</td>\n",
       "      <td>1.0</td>\n",
       "      <td>...</td>\n",
       "      <td>1.0</td>\n",
       "      <td>8.0</td>\n",
       "      <td>NaN</td>\n",
       "      <td>52.0</td>\n",
       "      <td>14.0</td>\n",
       "      <td>NaN</td>\n",
       "      <td>38.0</td>\n",
       "      <td>42.0</td>\n",
       "      <td>57.0</td>\n",
       "      <td>19.0</td>\n",
       "    </tr>\n",
       "    <tr>\n",
       "      <th>Jammu &amp; Kashmir</th>\n",
       "      <td>3.0</td>\n",
       "      <td>2.0</td>\n",
       "      <td>NaN</td>\n",
       "      <td>1.0</td>\n",
       "      <td>3.0</td>\n",
       "      <td>70.0</td>\n",
       "      <td>43.0</td>\n",
       "      <td>185.0</td>\n",
       "      <td>7.0</td>\n",
       "      <td>NaN</td>\n",
       "      <td>...</td>\n",
       "      <td>2.0</td>\n",
       "      <td>16.0</td>\n",
       "      <td>1.0</td>\n",
       "      <td>127.0</td>\n",
       "      <td>36.0</td>\n",
       "      <td>NaN</td>\n",
       "      <td>75.0</td>\n",
       "      <td>64.0</td>\n",
       "      <td>103.0</td>\n",
       "      <td>36.0</td>\n",
       "    </tr>\n",
       "    <tr>\n",
       "      <th>Karnataka</th>\n",
       "      <td>5.0</td>\n",
       "      <td>8.0</td>\n",
       "      <td>7.0</td>\n",
       "      <td>NaN</td>\n",
       "      <td>8.0</td>\n",
       "      <td>225.0</td>\n",
       "      <td>148.0</td>\n",
       "      <td>412.0</td>\n",
       "      <td>30.0</td>\n",
       "      <td>2.0</td>\n",
       "      <td>...</td>\n",
       "      <td>4.0</td>\n",
       "      <td>18.0</td>\n",
       "      <td>1.0</td>\n",
       "      <td>341.0</td>\n",
       "      <td>97.0</td>\n",
       "      <td>3.0</td>\n",
       "      <td>261.0</td>\n",
       "      <td>161.0</td>\n",
       "      <td>241.0</td>\n",
       "      <td>87.0</td>\n",
       "    </tr>\n",
       "    <tr>\n",
       "      <th>Kerala</th>\n",
       "      <td>4.0</td>\n",
       "      <td>5.0</td>\n",
       "      <td>4.0</td>\n",
       "      <td>NaN</td>\n",
       "      <td>8.0</td>\n",
       "      <td>89.0</td>\n",
       "      <td>45.0</td>\n",
       "      <td>152.0</td>\n",
       "      <td>7.0</td>\n",
       "      <td>2.0</td>\n",
       "      <td>...</td>\n",
       "      <td>2.0</td>\n",
       "      <td>11.0</td>\n",
       "      <td>1.0</td>\n",
       "      <td>135.0</td>\n",
       "      <td>35.0</td>\n",
       "      <td>2.0</td>\n",
       "      <td>71.0</td>\n",
       "      <td>62.0</td>\n",
       "      <td>105.0</td>\n",
       "      <td>37.0</td>\n",
       "    </tr>\n",
       "    <tr>\n",
       "      <th>Madhya Pradesh</th>\n",
       "      <td>9.0</td>\n",
       "      <td>8.0</td>\n",
       "      <td>4.0</td>\n",
       "      <td>NaN</td>\n",
       "      <td>11.0</td>\n",
       "      <td>144.0</td>\n",
       "      <td>75.0</td>\n",
       "      <td>339.0</td>\n",
       "      <td>21.0</td>\n",
       "      <td>2.0</td>\n",
       "      <td>...</td>\n",
       "      <td>7.0</td>\n",
       "      <td>9.0</td>\n",
       "      <td>1.0</td>\n",
       "      <td>230.0</td>\n",
       "      <td>69.0</td>\n",
       "      <td>3.0</td>\n",
       "      <td>196.0</td>\n",
       "      <td>105.0</td>\n",
       "      <td>180.0</td>\n",
       "      <td>80.0</td>\n",
       "    </tr>\n",
       "    <tr>\n",
       "      <th>Maharashtra</th>\n",
       "      <td>2.0</td>\n",
       "      <td>4.0</td>\n",
       "      <td>1.0</td>\n",
       "      <td>NaN</td>\n",
       "      <td>6.0</td>\n",
       "      <td>110.0</td>\n",
       "      <td>57.0</td>\n",
       "      <td>220.0</td>\n",
       "      <td>18.0</td>\n",
       "      <td>1.0</td>\n",
       "      <td>...</td>\n",
       "      <td>NaN</td>\n",
       "      <td>19.0</td>\n",
       "      <td>1.0</td>\n",
       "      <td>186.0</td>\n",
       "      <td>59.0</td>\n",
       "      <td>1.0</td>\n",
       "      <td>104.0</td>\n",
       "      <td>92.0</td>\n",
       "      <td>130.0</td>\n",
       "      <td>47.0</td>\n",
       "    </tr>\n",
       "    <tr>\n",
       "      <th>Orissa</th>\n",
       "      <td>NaN</td>\n",
       "      <td>1.0</td>\n",
       "      <td>1.0</td>\n",
       "      <td>NaN</td>\n",
       "      <td>2.0</td>\n",
       "      <td>35.0</td>\n",
       "      <td>13.0</td>\n",
       "      <td>83.0</td>\n",
       "      <td>2.0</td>\n",
       "      <td>NaN</td>\n",
       "      <td>...</td>\n",
       "      <td>1.0</td>\n",
       "      <td>8.0</td>\n",
       "      <td>NaN</td>\n",
       "      <td>49.0</td>\n",
       "      <td>15.0</td>\n",
       "      <td>NaN</td>\n",
       "      <td>37.0</td>\n",
       "      <td>21.0</td>\n",
       "      <td>31.0</td>\n",
       "      <td>13.0</td>\n",
       "    </tr>\n",
       "    <tr>\n",
       "      <th>Punjab</th>\n",
       "      <td>1.0</td>\n",
       "      <td>NaN</td>\n",
       "      <td>3.0</td>\n",
       "      <td>NaN</td>\n",
       "      <td>NaN</td>\n",
       "      <td>30.0</td>\n",
       "      <td>14.0</td>\n",
       "      <td>58.0</td>\n",
       "      <td>5.0</td>\n",
       "      <td>NaN</td>\n",
       "      <td>...</td>\n",
       "      <td>NaN</td>\n",
       "      <td>9.0</td>\n",
       "      <td>NaN</td>\n",
       "      <td>57.0</td>\n",
       "      <td>21.0</td>\n",
       "      <td>2.0</td>\n",
       "      <td>42.0</td>\n",
       "      <td>28.0</td>\n",
       "      <td>29.0</td>\n",
       "      <td>14.0</td>\n",
       "    </tr>\n",
       "    <tr>\n",
       "      <th>Rajasthan</th>\n",
       "      <td>NaN</td>\n",
       "      <td>5.0</td>\n",
       "      <td>2.0</td>\n",
       "      <td>NaN</td>\n",
       "      <td>2.0</td>\n",
       "      <td>48.0</td>\n",
       "      <td>15.0</td>\n",
       "      <td>78.0</td>\n",
       "      <td>2.0</td>\n",
       "      <td>NaN</td>\n",
       "      <td>...</td>\n",
       "      <td>1.0</td>\n",
       "      <td>5.0</td>\n",
       "      <td>1.0</td>\n",
       "      <td>97.0</td>\n",
       "      <td>24.0</td>\n",
       "      <td>NaN</td>\n",
       "      <td>70.0</td>\n",
       "      <td>18.0</td>\n",
       "      <td>48.0</td>\n",
       "      <td>12.0</td>\n",
       "    </tr>\n",
       "    <tr>\n",
       "      <th>Tamil Nadu</th>\n",
       "      <td>6.0</td>\n",
       "      <td>5.0</td>\n",
       "      <td>3.0</td>\n",
       "      <td>NaN</td>\n",
       "      <td>6.0</td>\n",
       "      <td>104.0</td>\n",
       "      <td>67.0</td>\n",
       "      <td>222.0</td>\n",
       "      <td>7.0</td>\n",
       "      <td>NaN</td>\n",
       "      <td>...</td>\n",
       "      <td>3.0</td>\n",
       "      <td>17.0</td>\n",
       "      <td>1.0</td>\n",
       "      <td>194.0</td>\n",
       "      <td>54.0</td>\n",
       "      <td>1.0</td>\n",
       "      <td>164.0</td>\n",
       "      <td>90.0</td>\n",
       "      <td>132.0</td>\n",
       "      <td>55.0</td>\n",
       "    </tr>\n",
       "    <tr>\n",
       "      <th>Uttar Pradesh</th>\n",
       "      <td>NaN</td>\n",
       "      <td>NaN</td>\n",
       "      <td>1.0</td>\n",
       "      <td>1.0</td>\n",
       "      <td>6.0</td>\n",
       "      <td>66.0</td>\n",
       "      <td>44.0</td>\n",
       "      <td>103.0</td>\n",
       "      <td>4.0</td>\n",
       "      <td>2.0</td>\n",
       "      <td>...</td>\n",
       "      <td>NaN</td>\n",
       "      <td>9.0</td>\n",
       "      <td>NaN</td>\n",
       "      <td>100.0</td>\n",
       "      <td>19.0</td>\n",
       "      <td>NaN</td>\n",
       "      <td>77.0</td>\n",
       "      <td>25.0</td>\n",
       "      <td>74.0</td>\n",
       "      <td>18.0</td>\n",
       "    </tr>\n",
       "    <tr>\n",
       "      <th>Uttaranchal</th>\n",
       "      <td>NaN</td>\n",
       "      <td>NaN</td>\n",
       "      <td>NaN</td>\n",
       "      <td>NaN</td>\n",
       "      <td>2.0</td>\n",
       "      <td>2.0</td>\n",
       "      <td>2.0</td>\n",
       "      <td>6.0</td>\n",
       "      <td>NaN</td>\n",
       "      <td>NaN</td>\n",
       "      <td>...</td>\n",
       "      <td>2.0</td>\n",
       "      <td>1.0</td>\n",
       "      <td>NaN</td>\n",
       "      <td>5.0</td>\n",
       "      <td>6.0</td>\n",
       "      <td>NaN</td>\n",
       "      <td>11.0</td>\n",
       "      <td>5.0</td>\n",
       "      <td>4.0</td>\n",
       "      <td>NaN</td>\n",
       "    </tr>\n",
       "    <tr>\n",
       "      <th>West Bengal</th>\n",
       "      <td>2.0</td>\n",
       "      <td>NaN</td>\n",
       "      <td>NaN</td>\n",
       "      <td>NaN</td>\n",
       "      <td>1.0</td>\n",
       "      <td>20.0</td>\n",
       "      <td>19.0</td>\n",
       "      <td>32.0</td>\n",
       "      <td>NaN</td>\n",
       "      <td>NaN</td>\n",
       "      <td>...</td>\n",
       "      <td>1.0</td>\n",
       "      <td>2.0</td>\n",
       "      <td>2.0</td>\n",
       "      <td>26.0</td>\n",
       "      <td>6.0</td>\n",
       "      <td>NaN</td>\n",
       "      <td>34.0</td>\n",
       "      <td>10.0</td>\n",
       "      <td>20.0</td>\n",
       "      <td>12.0</td>\n",
       "    </tr>\n",
       "  </tbody>\n",
       "</table>\n",
       "<p>20 rows × 1944 columns</p>\n",
       "</div>"
      ],
      "text/plain": [
       "                                   customer_city                          \\\n",
       "product_category_name Agro_Industry_And_Commerce Air_Conditioning    Art   \n",
       "customer_state                                                             \n",
       "Andhra Pradesh                             177.0            213.0  145.0   \n",
       "Arunachal Pradesh                            1.0              1.0    4.0   \n",
       "Chhattisgarh                                17.0             12.0   17.0   \n",
       "Delhi                                        5.0             10.0   12.0   \n",
       "Goa                                          NaN              NaN    NaN   \n",
       "Gujarat                                     15.0             20.0    9.0   \n",
       "Haryana                                      5.0              6.0    5.0   \n",
       "Himachal Pradesh                             NaN              2.0    1.0   \n",
       "Jammu & Kashmir                              3.0              2.0    NaN   \n",
       "Karnataka                                    5.0              8.0    7.0   \n",
       "Kerala                                       4.0              5.0    4.0   \n",
       "Madhya Pradesh                               9.0              8.0    4.0   \n",
       "Maharashtra                                  2.0              4.0    1.0   \n",
       "Orissa                                       NaN              1.0    1.0   \n",
       "Punjab                                       1.0              NaN    3.0   \n",
       "Rajasthan                                    NaN              5.0    2.0   \n",
       "Tamil Nadu                                   6.0              5.0    3.0   \n",
       "Uttar Pradesh                                NaN              NaN    1.0   \n",
       "Uttaranchal                                  NaN              NaN    NaN   \n",
       "West Bengal                                  2.0              NaN    NaN   \n",
       "\n",
       "                                                                    \\\n",
       "product_category_name Arts_And_Craftmanship  Audio    Auto    Baby   \n",
       "customer_state                                                       \n",
       "Andhra Pradesh                         17.0  254.0  2418.0  1974.0   \n",
       "Arunachal Pradesh                       NaN    1.0    51.0    43.0   \n",
       "Chhattisgarh                            1.0   24.0   307.0   204.0   \n",
       "Delhi                                   2.0   13.0   169.0    95.0   \n",
       "Goa                                     NaN    NaN     1.0     NaN   \n",
       "Gujarat                                 2.0   22.0   366.0   260.0   \n",
       "Haryana                                 NaN   11.0   111.0    59.0   \n",
       "Himachal Pradesh                        NaN    1.0    34.0    27.0   \n",
       "Jammu & Kashmir                         1.0    3.0    70.0    43.0   \n",
       "Karnataka                               NaN    8.0   225.0   148.0   \n",
       "Kerala                                  NaN    8.0    89.0    45.0   \n",
       "Madhya Pradesh                          NaN   11.0   144.0    75.0   \n",
       "Maharashtra                             NaN    6.0   110.0    57.0   \n",
       "Orissa                                  NaN    2.0    35.0    13.0   \n",
       "Punjab                                  NaN    NaN    30.0    14.0   \n",
       "Rajasthan                               NaN    2.0    48.0    15.0   \n",
       "Tamil Nadu                              NaN    6.0   104.0    67.0   \n",
       "Uttar Pradesh                           1.0    6.0    66.0    44.0   \n",
       "Uttaranchal                             NaN    2.0     2.0     2.0   \n",
       "West Bengal                             NaN    1.0    20.0    19.0   \n",
       "\n",
       "                                                                            \\\n",
       "product_category_name Bed_Bath_Table Books_General_Interest Books_Imported   \n",
       "customer_state                                                               \n",
       "Andhra Pradesh                7736.0                  334.0           42.0   \n",
       "Arunachal Pradesh              128.0                    7.0            4.0   \n",
       "Chhattisgarh                   733.0                   40.0            4.0   \n",
       "Delhi                          314.0                   36.0            1.0   \n",
       "Goa                              NaN                    NaN            NaN   \n",
       "Gujarat                        808.0                   34.0            1.0   \n",
       "Haryana                        296.0                    8.0            NaN   \n",
       "Himachal Pradesh                85.0                    3.0            1.0   \n",
       "Jammu & Kashmir                185.0                    7.0            NaN   \n",
       "Karnataka                      412.0                   30.0            2.0   \n",
       "Kerala                         152.0                    7.0            2.0   \n",
       "Madhya Pradesh                 339.0                   21.0            2.0   \n",
       "Maharashtra                    220.0                   18.0            1.0   \n",
       "Orissa                          83.0                    2.0            NaN   \n",
       "Punjab                          58.0                    5.0            NaN   \n",
       "Rajasthan                       78.0                    2.0            NaN   \n",
       "Tamil Nadu                     222.0                    7.0            NaN   \n",
       "Uttar Pradesh                  103.0                    4.0            2.0   \n",
       "Uttaranchal                      6.0                    NaN            NaN   \n",
       "West Bengal                     32.0                    NaN            NaN   \n",
       "\n",
       "                       ...                   year                   \\\n",
       "product_category_name  ... Signaling_And_Security Small_Appliances   \n",
       "customer_state         ...                                           \n",
       "Andhra Pradesh         ...                  129.0            440.0   \n",
       "Arunachal Pradesh      ...                    2.0             10.0   \n",
       "Chhattisgarh           ...                   12.0             46.0   \n",
       "Delhi                  ...                    5.0             28.0   \n",
       "Goa                    ...                    NaN              NaN   \n",
       "Gujarat                ...                   22.0             44.0   \n",
       "Haryana                ...                    7.0              5.0   \n",
       "Himachal Pradesh       ...                    1.0              8.0   \n",
       "Jammu & Kashmir        ...                    2.0             16.0   \n",
       "Karnataka              ...                    4.0             18.0   \n",
       "Kerala                 ...                    2.0             11.0   \n",
       "Madhya Pradesh         ...                    7.0              9.0   \n",
       "Maharashtra            ...                    NaN             19.0   \n",
       "Orissa                 ...                    1.0              8.0   \n",
       "Punjab                 ...                    NaN              9.0   \n",
       "Rajasthan              ...                    1.0              5.0   \n",
       "Tamil Nadu             ...                    3.0             17.0   \n",
       "Uttar Pradesh          ...                    NaN              9.0   \n",
       "Uttaranchal            ...                    2.0              1.0   \n",
       "West Bengal            ...                    1.0              2.0   \n",
       "\n",
       "                                                                            \\\n",
       "product_category_name Small_Appliances_Home_Oven_And_Coffee Sports_Leisure   \n",
       "customer_state                                                               \n",
       "Andhra Pradesh                                         58.0         5568.0   \n",
       "Arunachal Pradesh                                       NaN           92.0   \n",
       "Chhattisgarh                                            6.0          523.0   \n",
       "Delhi                                                   NaN          284.0   \n",
       "Goa                                                     NaN            1.0   \n",
       "Gujarat                                                 4.0          733.0   \n",
       "Haryana                                                 1.0          205.0   \n",
       "Himachal Pradesh                                        NaN           52.0   \n",
       "Jammu & Kashmir                                         1.0          127.0   \n",
       "Karnataka                                               1.0          341.0   \n",
       "Kerala                                                  1.0          135.0   \n",
       "Madhya Pradesh                                          1.0          230.0   \n",
       "Maharashtra                                             1.0          186.0   \n",
       "Orissa                                                  NaN           49.0   \n",
       "Punjab                                                  NaN           57.0   \n",
       "Rajasthan                                               1.0           97.0   \n",
       "Tamil Nadu                                              1.0          194.0   \n",
       "Uttar Pradesh                                           NaN          100.0   \n",
       "Uttaranchal                                             NaN            5.0   \n",
       "West Bengal                                             2.0           26.0   \n",
       "\n",
       "                                                                           \\\n",
       "product_category_name Stationery Tablets_Printing_Image Telephony    Toys   \n",
       "customer_state                                                              \n",
       "Andhra Pradesh            1593.0                   53.0    2540.0  2714.0   \n",
       "Arunachal Pradesh           30.0                    NaN      47.0    41.0   \n",
       "Chhattisgarh               166.0                    8.0     297.0   267.0   \n",
       "Delhi                       81.0                    6.0     194.0   147.0   \n",
       "Goa                          NaN                    NaN       1.0     NaN   \n",
       "Gujarat                    229.0                    7.0     375.0   308.0   \n",
       "Haryana                     71.0                    1.0      92.0    81.0   \n",
       "Himachal Pradesh            14.0                    NaN      38.0    42.0   \n",
       "Jammu & Kashmir             36.0                    NaN      75.0    64.0   \n",
       "Karnataka                   97.0                    3.0     261.0   161.0   \n",
       "Kerala                      35.0                    2.0      71.0    62.0   \n",
       "Madhya Pradesh              69.0                    3.0     196.0   105.0   \n",
       "Maharashtra                 59.0                    1.0     104.0    92.0   \n",
       "Orissa                      15.0                    NaN      37.0    21.0   \n",
       "Punjab                      21.0                    2.0      42.0    28.0   \n",
       "Rajasthan                   24.0                    NaN      70.0    18.0   \n",
       "Tamil Nadu                  54.0                    1.0     164.0    90.0   \n",
       "Uttar Pradesh               19.0                    NaN      77.0    25.0   \n",
       "Uttaranchal                  6.0                    NaN      11.0     5.0   \n",
       "West Bengal                  6.0                    NaN      34.0    10.0   \n",
       "\n",
       "                                             \n",
       "product_category_name Watches_Gifts unknown  \n",
       "customer_state                               \n",
       "Andhra Pradesh               3783.0  1643.0  \n",
       "Arunachal Pradesh              78.0    31.0  \n",
       "Chhattisgarh                  407.0   146.0  \n",
       "Delhi                         222.0    74.0  \n",
       "Goa                             NaN     NaN  \n",
       "Gujarat                       443.0   178.0  \n",
       "Haryana                       126.0    65.0  \n",
       "Himachal Pradesh               57.0    19.0  \n",
       "Jammu & Kashmir               103.0    36.0  \n",
       "Karnataka                     241.0    87.0  \n",
       "Kerala                        105.0    37.0  \n",
       "Madhya Pradesh                180.0    80.0  \n",
       "Maharashtra                   130.0    47.0  \n",
       "Orissa                         31.0    13.0  \n",
       "Punjab                         29.0    14.0  \n",
       "Rajasthan                      48.0    12.0  \n",
       "Tamil Nadu                    132.0    55.0  \n",
       "Uttar Pradesh                  74.0    18.0  \n",
       "Uttaranchal                     4.0     NaN  \n",
       "West Bengal                    20.0    12.0  \n",
       "\n",
       "[20 rows x 1944 columns]"
      ]
     },
     "execution_count": 380,
     "metadata": {},
     "output_type": "execute_result"
    }
   ],
   "source": [
    "pd.pivot_table(data=data,index=['customer_state'],columns=['product_category_name'],aggfunc='count')"
   ]
  },
  {
   "cell_type": "code",
   "execution_count": 406,
   "id": "3467bbbe-5f3e-40d5-bd81-0ae023979083",
   "metadata": {},
   "outputs": [],
   "source": [
    "o=data.groupby(['customer_state'])['product_category_name'].count().reset_index()"
   ]
  },
  {
   "cell_type": "code",
   "execution_count": 408,
   "id": "923b8736-4e8b-4a2e-8b32-68f0239d259c",
   "metadata": {},
   "outputs": [
    {
     "name": "stdout",
     "output_type": "stream",
     "text": [
      "The Popular categories by state are:-\n",
      "       customer_state  product_category_name\n",
      "0      Andhra Pradesh                  73302\n",
      "1   Arunachal Pradesh                   1328\n",
      "2        Chhattisgarh                   7480\n",
      "3               Delhi                   3957\n",
      "4                 Goa                     10\n",
      "5             Gujarat                   8949\n",
      "6             Haryana                   2664\n",
      "7    Himachal Pradesh                    870\n",
      "8     Jammu & Kashmir                   1839\n",
      "9           Karnataka                   4595\n",
      "10             Kerala                   1794\n",
      "11     Madhya Pradesh                   3410\n",
      "12        Maharashtra                   2340\n",
      "13             Orissa                    701\n",
      "14             Punjab                    777\n",
      "15          Rajasthan                    926\n",
      "16         Tamil Nadu                   2477\n",
      "17      Uttar Pradesh                   1188\n",
      "18        Uttaranchal                    110\n",
      "19        West Bengal                    431\n"
     ]
    }
   ],
   "source": [
    "print('The Popular categories by state are:-')\n",
    "print(o)"
   ]
  },
  {
   "cell_type": "code",
   "execution_count": 400,
   "id": "35abee2e-3d37-4ee4-9a92-43c555e730c4",
   "metadata": {},
   "outputs": [],
   "source": [
    "p=data.groupby(['month'])['product_category_name'].count().reset_index()"
   ]
  },
  {
   "cell_type": "code",
   "execution_count": 410,
   "id": "6b12f80a-d0c6-475b-8aa0-f4bdb19b1f86",
   "metadata": {},
   "outputs": [
    {
     "name": "stdout",
     "output_type": "stream",
     "text": [
      "The Popular Categories by month are:-\n",
      "        month  product_category_name\n",
      "0       April                  11156\n",
      "1      August                  12802\n",
      "2    December                   6648\n",
      "3    February                  10183\n",
      "4     January                   9690\n",
      "5        July                  12325\n",
      "6        June                  11256\n",
      "7       March                  11858\n",
      "8         May                  12743\n",
      "9    November                   9191\n",
      "10    October                   6089\n",
      "11  September                   5207\n"
     ]
    }
   ],
   "source": [
    "print('The Popular Categories by month are:-')\n",
    "print(p)"
   ]
  },
  {
   "cell_type": "markdown",
   "id": "829dd2f6-6372-4a5e-9b42-e1a8b91f4682",
   "metadata": {},
   "source": [
    "### h. List top 10 most expensive products sorted by price "
   ]
  },
  {
   "cell_type": "code",
   "execution_count": 421,
   "id": "a2433221-c908-4cf8-8178-eedb87452c48",
   "metadata": {},
   "outputs": [],
   "source": [
    "r=data.groupby(['product_category_name'])['payment_value'].sum().sort_values(ascending=False)"
   ]
  },
  {
   "cell_type": "code",
   "execution_count": 425,
   "id": "8fb8fca4-83b5-483f-a2a1-7d1bfd1b2cc5",
   "metadata": {},
   "outputs": [],
   "source": [
    "r1=r.head(10)"
   ]
  },
  {
   "cell_type": "code",
   "execution_count": 427,
   "id": "7cbea79c-09d5-42e9-8674-eb3b882ecb88",
   "metadata": {},
   "outputs": [
    {
     "name": "stdout",
     "output_type": "stream",
     "text": [
      "The top  10 Most expensive products are:-\n",
      "product_category_name\n",
      "Bed_Bath_Table           1744205.53\n",
      "Health_Beauty            1663076.30\n",
      "Computers_Accessories    1599574.66\n",
      "Furniture_Decor          1444383.69\n",
      "Watches_Gifts            1430553.48\n",
      "Sports_Leisure           1400270.11\n",
      "Housewares               1097900.09\n",
      "Auto                      855095.68\n",
      "Garden_Tools              840721.59\n",
      "Cool_Stuff                781933.97\n",
      "Name: payment_value, dtype: float64\n"
     ]
    }
   ],
   "source": [
    "print('The top  10 Most expensive products are:-')\n",
    "print(r1)"
   ]
  },
  {
   "cell_type": "markdown",
   "id": "8c833cf6-da1d-4f4c-bdba-c1a441333cc7",
   "metadata": {},
   "source": [
    "# 2. Performing Customers/sellers Segmentation \n"
   ]
  },
  {
   "cell_type": "markdown",
   "id": "ef2f21a2-8c8b-4bb5-8a1b-34f11236077c",
   "metadata": {},
   "source": [
    "### a. Divide the customers into groups based on the revenue generated  "
   ]
  },
  {
   "cell_type": "code",
   "execution_count": 433,
   "id": "b3ac587e-8d9f-4590-a331-a0a82617c2d4",
   "metadata": {},
   "outputs": [
    {
     "data": {
      "text/plain": [
       "Index(['order_id', 'customer_id', 'order_status', 'order_purchase_timestamp',\n",
       "       'payment_sequential', 'payment_type', 'payment_installments',\n",
       "       'payment_value', 'customer_unique_id', 'customer_zip_code_prefix',\n",
       "       'customer_city', 'customer_state', 'order_item_id', 'product_id',\n",
       "       'seller_id', 'price', 'freight_value', 'product_category_name',\n",
       "       'review_id', 'review_score', 'review_creation_date',\n",
       "       'review_answer_timestamp', 'year', 'month', 'week', 'time', 'days',\n",
       "       'month_year', 'price_to_pay'],\n",
       "      dtype='object')"
      ]
     },
     "execution_count": 433,
     "metadata": {},
     "output_type": "execute_result"
    }
   ],
   "source": [
    "data.columns"
   ]
  },
  {
   "cell_type": "code",
   "execution_count": 441,
   "id": "6c51a442-5993-4115-9490-d5ad531f4671",
   "metadata": {},
   "outputs": [],
   "source": [
    "data['revenue']=data['price']*data['order_item_id']"
   ]
  },
  {
   "cell_type": "code",
   "execution_count": 454,
   "id": "95f3b75c-9630-4705-9b3c-f0fe7f24f074",
   "metadata": {},
   "outputs": [],
   "source": [
    "s=data.groupby(['customer_id'])['revenue'].sum().reset_index()"
   ]
  },
  {
   "cell_type": "code",
   "execution_count": 458,
   "id": "ec279818-e2b3-4781-98ca-c59d86f0bb33",
   "metadata": {},
   "outputs": [
    {
     "name": "stdout",
     "output_type": "stream",
     "text": [
      "The No of customer based on the revenue generated by them are:-\n",
      "                            customer_id  revenue\n",
      "0      00012a2ce6f8dcda20d059ce98491703   89.800\n",
      "1      000161a058600d5901f007fab4c27140   54.900\n",
      "2      0001fd6190edaaf884bcaf3d49edf079  179.990\n",
      "3      0002414f95344307404f0ace7a26f1d5  149.900\n",
      "4      000379cdec625522490c315e70c7a9fb   93.000\n",
      "...                                 ...      ...\n",
      "99435  fffecc9f79fd8c764f843e9951b11341  164.700\n",
      "99436  fffeda5b6d849fbd39689bb92087f431   47.900\n",
      "99437  ffff42319e9b2d713724ae527742af25  199.900\n",
      "99438  ffffa3172527f765de70084a7e53aae8   32.700\n",
      "99439  ffffe8b65bbe3087b653a978c870db99   16.533\n",
      "\n",
      "[99440 rows x 2 columns]\n"
     ]
    }
   ],
   "source": [
    "print('The No of customer based on the revenue generated by them are:-')\n",
    "print(s)"
   ]
  },
  {
   "cell_type": "markdown",
   "id": "d44e9e43-1873-4241-8508-56338802f851",
   "metadata": {},
   "source": [
    "### b. Divide the sellers into groups based on the revenue generated "
   ]
  },
  {
   "cell_type": "code",
   "execution_count": 452,
   "id": "e9afe3fb-c809-4877-8ee1-1b8346d90fa2",
   "metadata": {},
   "outputs": [],
   "source": [
    "q=data.groupby(['seller_id'])['revenue'].sum().reset_index()"
   ]
  },
  {
   "cell_type": "code",
   "execution_count": 461,
   "id": "9c3f8e2d-ad94-41d7-ab49-197611789392",
   "metadata": {},
   "outputs": [
    {
     "name": "stdout",
     "output_type": "stream",
     "text": [
      "The No of seller based on the revenue generated by them are:-\n",
      "                             seller_id     revenue\n",
      "0     0015a82c2db000af6aaaf3ae2ecb0532    2685.000\n",
      "1     001cca7ae9ae17fb1caed9dfb1094831   30781.320\n",
      "2     001e6ad469a905060d959994f1b41e4f     250.000\n",
      "3     002100f778ceb8431b7a1020ff7ab48f    1404.500\n",
      "4     003554e2dce176b5555353e4f3555ac8     120.000\n",
      "...                                ...         ...\n",
      "3091  ffdd9f82b9a447f6f8d4b91554cc7dd3    2418.400\n",
      "3092  ffeee66ac5d5a62fe688b9d26f83f534    1839.860\n",
      "3093  fffd5413c0700ac820c7069d66d98c89    9851.600\n",
      "3094  ffff564a4f9085cd26170f4732393726    1426.300\n",
      "3095                           unknown  146539.323\n",
      "\n",
      "[3096 rows x 2 columns]\n"
     ]
    }
   ],
   "source": [
    "print('The No of seller based on the revenue generated by them are:-')\n",
    "print(q)\n"
   ]
  },
  {
   "cell_type": "markdown",
   "id": "682df974-d0d7-4b36-b3b3-5d3d21d7d320",
   "metadata": {},
   "source": [
    "# 3. Cross-Selling (Which products are selling together) "
   ]
  },
  {
   "cell_type": "code",
   "execution_count": 475,
   "id": "3356794c-ea26-4242-a873-6f892e13a7b7",
   "metadata": {},
   "outputs": [],
   "source": [
    "cross_selling=data.groupby(['customer_id']).agg({'product_category_name':list}).assign(count=lambda X:X['product_category_name'].str.len())"
   ]
  },
  {
   "cell_type": "code",
   "execution_count": 481,
   "id": "367d4f96-5cbe-41cc-be28-27940522a6cf",
   "metadata": {},
   "outputs": [
    {
     "data": {
      "text/html": [
       "<div>\n",
       "<style scoped>\n",
       "    .dataframe tbody tr th:only-of-type {\n",
       "        vertical-align: middle;\n",
       "    }\n",
       "\n",
       "    .dataframe tbody tr th {\n",
       "        vertical-align: top;\n",
       "    }\n",
       "\n",
       "    .dataframe thead th {\n",
       "        text-align: right;\n",
       "    }\n",
       "</style>\n",
       "<table border=\"1\" class=\"dataframe\">\n",
       "  <thead>\n",
       "    <tr style=\"text-align: right;\">\n",
       "      <th></th>\n",
       "      <th>product_category_name</th>\n",
       "      <th>count</th>\n",
       "    </tr>\n",
       "    <tr>\n",
       "      <th>customer_id</th>\n",
       "      <th></th>\n",
       "      <th></th>\n",
       "    </tr>\n",
       "  </thead>\n",
       "  <tbody>\n",
       "    <tr>\n",
       "      <th>270c23a11d024a44c896d1894b261a83</th>\n",
       "      <td>[Bed_Bath_Table, Bed_Bath_Table, Housewares, B...</td>\n",
       "      <td>63</td>\n",
       "    </tr>\n",
       "    <tr>\n",
       "      <th>13aa59158da63ba0e93ec6ac2c07aacb</th>\n",
       "      <td>[Office_Furniture, Office_Furniture, Office_Fu...</td>\n",
       "      <td>38</td>\n",
       "    </tr>\n",
       "    <tr>\n",
       "      <th>9af2372a1e49340278e7c1ef8d749f34</th>\n",
       "      <td>[Garden_Tools, Garden_Tools, Garden_Tools, Gar...</td>\n",
       "      <td>29</td>\n",
       "    </tr>\n",
       "    <tr>\n",
       "      <th>92cd3ec6e2d643d4ebd0e3d6238f69e2</th>\n",
       "      <td>[Bed_Bath_Table, Bed_Bath_Table, Bed_Bath_Tabl...</td>\n",
       "      <td>26</td>\n",
       "    </tr>\n",
       "    <tr>\n",
       "      <th>d22f25a9fadfb1abbc2e29395b1239f4</th>\n",
       "      <td>[Computers_Accessories, Computers_Accessories,...</td>\n",
       "      <td>24</td>\n",
       "    </tr>\n",
       "    <tr>\n",
       "      <th>86cc80fef09f7f39df4b0dbce48e81cb</th>\n",
       "      <td>[Computers_Accessories, Luggage_Accessories, C...</td>\n",
       "      <td>24</td>\n",
       "    </tr>\n",
       "    <tr>\n",
       "      <th>2ba91e12e5e4c9f56b82b86d9031d329</th>\n",
       "      <td>[Perfumery, Perfumery, Perfumery, Perfumery, P...</td>\n",
       "      <td>24</td>\n",
       "    </tr>\n",
       "    <tr>\n",
       "      <th>63b964e79dee32a3587651701a2b8dbf</th>\n",
       "      <td>[Agro_Industry_And_Commerce, Agro_Industry_And...</td>\n",
       "      <td>24</td>\n",
       "    </tr>\n",
       "    <tr>\n",
       "      <th>6ee2f17e3b6c33d6a9557f280edd2925</th>\n",
       "      <td>[Garden_Tools, Garden_Tools, Garden_Tools, Gar...</td>\n",
       "      <td>24</td>\n",
       "    </tr>\n",
       "    <tr>\n",
       "      <th>be1c4e52bb71e0c54b11a26b8e8d59f2</th>\n",
       "      <td>[Bed_Bath_Table, Bed_Bath_Table, Bed_Bath_Tabl...</td>\n",
       "      <td>22</td>\n",
       "    </tr>\n",
       "  </tbody>\n",
       "</table>\n",
       "</div>"
      ],
      "text/plain": [
       "                                                              product_category_name  \\\n",
       "customer_id                                                                           \n",
       "270c23a11d024a44c896d1894b261a83  [Bed_Bath_Table, Bed_Bath_Table, Housewares, B...   \n",
       "13aa59158da63ba0e93ec6ac2c07aacb  [Office_Furniture, Office_Furniture, Office_Fu...   \n",
       "9af2372a1e49340278e7c1ef8d749f34  [Garden_Tools, Garden_Tools, Garden_Tools, Gar...   \n",
       "92cd3ec6e2d643d4ebd0e3d6238f69e2  [Bed_Bath_Table, Bed_Bath_Table, Bed_Bath_Tabl...   \n",
       "d22f25a9fadfb1abbc2e29395b1239f4  [Computers_Accessories, Computers_Accessories,...   \n",
       "86cc80fef09f7f39df4b0dbce48e81cb  [Computers_Accessories, Luggage_Accessories, C...   \n",
       "2ba91e12e5e4c9f56b82b86d9031d329  [Perfumery, Perfumery, Perfumery, Perfumery, P...   \n",
       "63b964e79dee32a3587651701a2b8dbf  [Agro_Industry_And_Commerce, Agro_Industry_And...   \n",
       "6ee2f17e3b6c33d6a9557f280edd2925  [Garden_Tools, Garden_Tools, Garden_Tools, Gar...   \n",
       "be1c4e52bb71e0c54b11a26b8e8d59f2  [Bed_Bath_Table, Bed_Bath_Table, Bed_Bath_Tabl...   \n",
       "\n",
       "                                  count  \n",
       "customer_id                              \n",
       "270c23a11d024a44c896d1894b261a83     63  \n",
       "13aa59158da63ba0e93ec6ac2c07aacb     38  \n",
       "9af2372a1e49340278e7c1ef8d749f34     29  \n",
       "92cd3ec6e2d643d4ebd0e3d6238f69e2     26  \n",
       "d22f25a9fadfb1abbc2e29395b1239f4     24  \n",
       "86cc80fef09f7f39df4b0dbce48e81cb     24  \n",
       "2ba91e12e5e4c9f56b82b86d9031d329     24  \n",
       "63b964e79dee32a3587651701a2b8dbf     24  \n",
       "6ee2f17e3b6c33d6a9557f280edd2925     24  \n",
       "be1c4e52bb71e0c54b11a26b8e8d59f2     22  "
      ]
     },
     "execution_count": 481,
     "metadata": {},
     "output_type": "execute_result"
    }
   ],
   "source": [
    "cross_selling.sort_values(by='count', ascending = False).head(10)"
   ]
  },
  {
   "cell_type": "markdown",
   "id": "8f263e4d-4413-4cf3-ab85-9a6142fdeb9e",
   "metadata": {},
   "source": [
    "# 4. Payment Behaviour "
   ]
  },
  {
   "cell_type": "markdown",
   "id": "30491019-e20a-45e2-8508-ac3124b88d28",
   "metadata": {},
   "source": [
    "### a. How customers are paying? "
   ]
  },
  {
   "cell_type": "code",
   "execution_count": 497,
   "id": "a1f5acff-5f53-4831-a2f4-f4c33b0366f2",
   "metadata": {},
   "outputs": [],
   "source": [
    "m=data.groupby('payment_type')['customer_id'].count().reset_index().sort_values(by='customer_id', ascending=False)"
   ]
  },
  {
   "cell_type": "code",
   "execution_count": 499,
   "id": "49bed325-e9a2-4a2d-8349-e88a0972c19e",
   "metadata": {},
   "outputs": [
    {
     "name": "stdout",
     "output_type": "stream",
     "text": [
      "  payment_type  customer_id\n",
      "1  credit_card        87784\n",
      "0          UPI        23190\n",
      "4      voucher         6465\n",
      "2   debit_card         1706\n",
      "3  not_defined            3\n"
     ]
    }
   ],
   "source": [
    "print(m)"
   ]
  },
  {
   "cell_type": "markdown",
   "id": "3f4d92a2-17c6-4e20-9ce9-fdc756451e19",
   "metadata": {},
   "source": [
    "### b. Which payment channels are used by most customers?"
   ]
  },
  {
   "cell_type": "code",
   "execution_count": 502,
   "id": "b5a4bfc0-5550-459d-bced-733ad28b7da9",
   "metadata": {},
   "outputs": [
    {
     "name": "stdout",
     "output_type": "stream",
     "text": [
      "Customers are mostly paying via Credit Card and UPI\n"
     ]
    }
   ],
   "source": [
    "print('Customers are mostly paying via Credit Card and UPI')"
   ]
  },
  {
   "cell_type": "markdown",
   "id": "fc2fb313-7f46-477f-bb58-d5c7cb0a90cb",
   "metadata": {},
   "source": [
    "# 5. Customer satisfaction towards category & product "
   ]
  },
  {
   "cell_type": "markdown",
   "id": "4ef3ddcb-1c21-45e9-9353-97eb157e884a",
   "metadata": {},
   "source": [
    "### a. Which categories (top 10) are maximum rated & minimum rated? "
   ]
  },
  {
   "cell_type": "code",
   "execution_count": 518,
   "id": "43f43b49-5d83-4966-808e-bacd54d02eff",
   "metadata": {},
   "outputs": [],
   "source": [
    "h=data.groupby(['product_category_name'])['review_score'].count().sort_values(ascending=False)"
   ]
  },
  {
   "cell_type": "code",
   "execution_count": 520,
   "id": "ef6e0d28-ba71-4e20-83b6-d1f2323b9926",
   "metadata": {},
   "outputs": [
    {
     "data": {
      "text/plain": [
       "product_category_name\n",
       "Bed_Bath_Table           11990\n",
       "Health_Beauty            10030\n",
       "Sports_Leisure            9005\n",
       "Furniture_Decor           8833\n",
       "Computers_Accessories     8151\n",
       "Housewares                7380\n",
       "Watches_Gifts             6213\n",
       "Telephony                 4726\n",
       "Garden_Tools              4590\n",
       "Auto                      4400\n",
       "Name: review_score, dtype: int64"
      ]
     },
     "execution_count": 520,
     "metadata": {},
     "output_type": "execute_result"
    }
   ],
   "source": [
    "h.head(10)"
   ]
  },
  {
   "cell_type": "markdown",
   "id": "2cb8cf2b-8dcc-4d11-a6d3-e45a460ae973",
   "metadata": {},
   "source": [
    "### b. Which products (top10) are maximum rated & minimum rated? "
   ]
  },
  {
   "cell_type": "code",
   "execution_count": 522,
   "id": "5c0581ff-03a5-4f2f-a829-57f5178de61b",
   "metadata": {},
   "outputs": [
    {
     "data": {
      "text/plain": [
       "product_category_name\n",
       "Music                        40\n",
       "Diapers_And_Hygiene          39\n",
       "Flowers                      33\n",
       "Fashion_Sport                31\n",
       "Home_Comfort_2               31\n",
       "Arts_And_Craftmanship        24\n",
       "La_Cuisine                   16\n",
       "Cds_Dvds_Musicals            14\n",
       "Fashion_Childrens_Clothes     8\n",
       "Security_And_Services         2\n",
       "Name: review_score, dtype: int64"
      ]
     },
     "execution_count": 522,
     "metadata": {},
     "output_type": "execute_result"
    }
   ],
   "source": [
    "h.tail(10)"
   ]
  },
  {
   "cell_type": "markdown",
   "id": "7dae90d9-0ce2-433d-842c-b8c856985bd9",
   "metadata": {},
   "source": [
    "### c. Average rating by location, seller, product, category, month etc. "
   ]
  },
  {
   "cell_type": "code",
   "execution_count": 528,
   "id": "92c2e9d9-e2be-4db0-bb0f-7c92a2a42524",
   "metadata": {},
   "outputs": [],
   "source": [
    "y=data.groupby(['seller_id'])['review_score'].mean().sort_values(ascending=False)"
   ]
  },
  {
   "cell_type": "code",
   "execution_count": 530,
   "id": "609a4251-a6cd-4223-906e-89111542ad8d",
   "metadata": {},
   "outputs": [
    {
     "name": "stdout",
     "output_type": "stream",
     "text": [
      "The Average rating od seller by rating scores are:-\n",
      "seller_id\n",
      "c18309219e789960add0b2255ca4b091    5.0\n",
      "2075d8cd4dd63ff12df0749a5866bb06    5.0\n",
      "40ec8ab6cdafbcc4f544da38c67da39a    5.0\n",
      "4125d9385a25e82d2f72d3a0fd55bc3f    5.0\n",
      "417a1e6c7321084d2a0ae0d023cfad93    5.0\n",
      "                                   ... \n",
      "63bc58679c44e8a998792119fd7ad23e    1.0\n",
      "df683dfda87bf71ac3fc63063fba369d    1.0\n",
      "1fa2d3def6adfa70e58c276bb64fe5bb    1.0\n",
      "6576fd3e23c88f0e5d4d23f39bba0542    1.0\n",
      "61b893c57e33626afb104d4112b1be76    1.0\n",
      "Name: review_score, Length: 3096, dtype: float64\n"
     ]
    }
   ],
   "source": [
    "print('The Average rating of seller by rating scores are:-')\n",
    "print(y)"
   ]
  },
  {
   "cell_type": "code",
   "execution_count": 540,
   "id": "271af8ce-f0fe-410f-b703-b38e0cc91142",
   "metadata": {},
   "outputs": [],
   "source": [
    "x=data.groupby(['product_id'])['review_score'].mean().sort_values(ascending=False)"
   ]
  },
  {
   "cell_type": "code",
   "execution_count": 542,
   "id": "fbcc821c-eb7c-42a2-8877-936cd2ec37a5",
   "metadata": {},
   "outputs": [
    {
     "name": "stdout",
     "output_type": "stream",
     "text": [
      "The Average rating of product by rating scores are:-\n",
      "product_id\n",
      "00066f42aeeb9f3007548bb9d3f33c38    5.0\n",
      "5f728acb77ac6cfbe96f6c64d2bd4694    5.0\n",
      "5f2ad53b751662e4c54dceffadb3804d    5.0\n",
      "5f2bbb2425de4f4853839fd12fc87d6e    5.0\n",
      "c5dfa757c5ae7662e178e990e39362e0    5.0\n",
      "                                   ... \n",
      "3560cb23f7a6760dc967498e22caa460    1.0\n",
      "1a9d5623d718be92f3d696bfd261bb4f    1.0\n",
      "ef4f75a1e1266944f1733179e963d4be    1.0\n",
      "de7e97827841985dae27ef4c4769da95    1.0\n",
      "f2d3be8d725ab19aae58ceb837f57897    1.0\n",
      "Name: review_score, Length: 32952, dtype: float64\n"
     ]
    }
   ],
   "source": [
    "print('The Average rating of product by rating scores are:-')\n",
    "print(x)"
   ]
  },
  {
   "cell_type": "code",
   "execution_count": 546,
   "id": "9315c75f-4a19-45ef-812f-9c3a6a285c26",
   "metadata": {},
   "outputs": [],
   "source": [
    "z=data.groupby(['product_category_name'])['review_score'].mean().sort_values(ascending=False)"
   ]
  },
  {
   "cell_type": "code",
   "execution_count": 548,
   "id": "4fc452ac-60a3-4004-a883-186a82bd4678",
   "metadata": {},
   "outputs": [
    {
     "name": "stdout",
     "output_type": "stream",
     "text": [
      "The Average rating of product category by rating scores are:-\n",
      "product_category_name\n",
      "Cds_Dvds_Musicals            4.642857\n",
      "Fashion_Childrens_Clothes    4.500000\n",
      "Books_General_Interest       4.431858\n",
      "Books_Imported               4.419355\n",
      "Books_Technical              4.345588\n",
      "                               ...   \n",
      "Office_Furniture             3.516779\n",
      "Home_Comfort_2               3.387097\n",
      "Diapers_And_Hygiene          3.256410\n",
      "unknown                      3.139462\n",
      "Security_And_Services        2.500000\n",
      "Name: review_score, Length: 72, dtype: float64\n"
     ]
    }
   ],
   "source": [
    "print('The Average rating of product category by rating scores are:-')\n",
    "print(z)"
   ]
  },
  {
   "cell_type": "code",
   "execution_count": 552,
   "id": "55ceef04-6b76-4fa6-b662-7f97ff239f2d",
   "metadata": {},
   "outputs": [],
   "source": [
    "i=data.groupby(['month'])['review_score'].mean().sort_values(ascending=False)"
   ]
  },
  {
   "cell_type": "code",
   "execution_count": 554,
   "id": "98287f76-57d6-449b-a86f-3215d678994e",
   "metadata": {},
   "outputs": [
    {
     "name": "stdout",
     "output_type": "stream",
     "text": [
      "The Average rating of per month by rating scores are:-\n",
      "month\n",
      "August       4.186690\n",
      "July         4.152211\n",
      "June         4.149254\n",
      "May          4.106411\n",
      "September    4.093528\n",
      "April        4.033525\n",
      "October      3.974052\n",
      "January      3.927967\n",
      "December     3.909446\n",
      "November     3.801219\n",
      "March        3.771125\n",
      "February     3.770991\n",
      "Name: review_score, dtype: float64\n"
     ]
    }
   ],
   "source": [
    "print('The Average rating of per month by rating scores are:-')\n",
    "print(i)"
   ]
  },
  {
   "cell_type": "code",
   "execution_count": 560,
   "id": "5c13900d-dad7-46ab-b608-b3fc09f5f75f",
   "metadata": {},
   "outputs": [],
   "source": [
    "c=data.groupby(['customer_city'])['review_score'].mean().sort_values(ascending=False)"
   ]
  },
  {
   "cell_type": "code",
   "execution_count": 562,
   "id": "bc55ceb7-286d-4243-9aa6-0b25a1bf65e3",
   "metadata": {},
   "outputs": [
    {
     "name": "stdout",
     "output_type": "stream",
     "text": [
      "The Average rating of customer city by rating scores are:-\n",
      "customer_city\n",
      "Bharthana            5.0\n",
      "Chamoli Gopeshwar    5.0\n",
      "Tiruppur             5.0\n",
      "Fariha               5.0\n",
      "Kollankodu           5.0\n",
      "                    ... \n",
      "Khandapada           1.0\n",
      "Sahapur              1.0\n",
      "Velur                1.0\n",
      "Kerakat              1.0\n",
      "Vettaikaranpudur     1.0\n",
      "Name: review_score, Length: 4119, dtype: float64\n"
     ]
    }
   ],
   "source": [
    "print('The Average rating of customer city by rating scores are:-')\n",
    "print(c)"
   ]
  },
  {
   "cell_type": "code",
   "execution_count": 566,
   "id": "1fe313c1-9da0-4d14-8892-10f2f31f3c01",
   "metadata": {},
   "outputs": [],
   "source": [
    "s=data.groupby(['customer_state'])['review_score'].mean().sort_values(ascending=False)"
   ]
  },
  {
   "cell_type": "code",
   "execution_count": 568,
   "id": "2e8d0db2-84f9-4b97-8bb4-65fd16727cd9",
   "metadata": {},
   "outputs": [
    {
     "name": "stdout",
     "output_type": "stream",
     "text": [
      "The Average rating of customer state by rating scores are:-\n",
      "customer_state\n",
      "Goa                  4.800000\n",
      "Punjab               4.150579\n",
      "Uttar Pradesh        4.119529\n",
      "Tamil Nadu           4.100121\n",
      "Rajasthan            4.091793\n",
      "Haryana              4.087087\n",
      "Orissa               4.079886\n",
      "Maharashtra          4.072222\n",
      "Kerala               4.034560\n",
      "Gujarat              4.021790\n",
      "Delhi                4.017690\n",
      "Chhattisgarh         4.015241\n",
      "Arunachal Pradesh    4.009036\n",
      "Karnataka            4.000435\n",
      "Jammu & Kashmir      3.989125\n",
      "West Bengal          3.988399\n",
      "Andhra Pradesh       3.979578\n",
      "Himachal Pradesh     3.974713\n",
      "Madhya Pradesh       3.969208\n",
      "Uttaranchal          3.718182\n",
      "Name: review_score, dtype: float64\n"
     ]
    }
   ],
   "source": [
    "print('The Average rating of customer state by rating scores are:-')\n",
    "print(s)"
   ]
  },
  {
   "cell_type": "code",
   "execution_count": null,
   "id": "14d5d50d-fb40-4ad8-b69f-50b5f483985e",
   "metadata": {},
   "outputs": [],
   "source": []
  }
 ],
 "metadata": {
  "kernelspec": {
   "display_name": "Python 3 (ipykernel)",
   "language": "python",
   "name": "python3"
  },
  "language_info": {
   "codemirror_mode": {
    "name": "ipython",
    "version": 3
   },
   "file_extension": ".py",
   "mimetype": "text/x-python",
   "name": "python",
   "nbconvert_exporter": "python",
   "pygments_lexer": "ipython3",
   "version": "3.12.4"
  }
 },
 "nbformat": 4,
 "nbformat_minor": 5
}
